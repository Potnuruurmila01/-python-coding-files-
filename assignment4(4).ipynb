{
 "cells": [
  {
   "cell_type": "code",
   "execution_count": 3,
   "id": "af9a2baa",
   "metadata": {},
   "outputs": [
    {
     "name": "stdout",
     "output_type": "stream",
     "text": [
      "1\n",
      "2\n",
      "3\n",
      "4\n",
      "5\n"
     ]
    }
   ],
   "source": [
    "#Write a Python program to loop through all the elements in a list\n",
    "x=[1,2,3,4,5]\n",
    "for i in x:\n",
    "    print(i)"
   ]
  },
  {
   "cell_type": "code",
   "execution_count": 4,
   "id": "6f5c81c3",
   "metadata": {},
   "outputs": [
    {
     "name": "stdout",
     "output_type": "stream",
     "text": [
      "enter number3\n",
      "5\n",
      "2\n",
      "6\n",
      "[5, 2, 6]\n"
     ]
    }
   ],
   "source": [
    "# Write a Python program where you will ask the users to insert elements in a list\n",
    "x=[]\n",
    "num=int(input(\"enter number\"))\n",
    "for i in range(0,num):\n",
    "    num=int(input())\n",
    "    x.append(num)\n",
    "print(x)\n"
   ]
  },
  {
   "cell_type": "code",
   "execution_count": 5,
   "id": "2521358d",
   "metadata": {},
   "outputs": [
    {
     "name": "stdout",
     "output_type": "stream",
     "text": [
      "enter the range: 3\n",
      "enter the numbers: 5\n",
      "enter the numbers: 6\n",
      "enter the numbers: 5\n",
      "[5, 6, 5]\n",
      "5\n",
      "5\n"
     ]
    }
   ],
   "source": [
    "#. Write a Python program to remove all the odd index value from a list and only even index elements should remain\n",
    "x=[]\n",
    "num1=int(input(\"enter the range: \"))\n",
    "for i in range(num1):\n",
    "    num2=input(\"enter the numbers: \")\n",
    "    if(num2.isdigit()):\n",
    "        num2=int(num2)\n",
    "        x.append(num2)\n",
    "    else:\n",
    "        x.append(num2)\n",
    "print(x)\n",
    "for i in x:\n",
    "    if(x.index(i)%2==0):\n",
    "        print(i)"
   ]
  },
  {
   "cell_type": "code",
   "execution_count": null,
   "id": "1666f0c6",
   "metadata": {},
   "outputs": [],
   "source": [
    "#write a Python program to sum and multiply all the items in a list\n"
   ]
  },
  {
   "cell_type": "code",
   "execution_count": 6,
   "id": "96afc7c6",
   "metadata": {},
   "outputs": [
    {
     "name": "stdout",
     "output_type": "stream",
     "text": [
      "enter the range: 2\n",
      "enter the numbers: 3\n",
      "enter the numbers: 6\n",
      "[3, 6]\n",
      "6\n",
      "3\n"
     ]
    }
   ],
   "source": [
    "#Write a Python program to get the maximum and minimum numbers from a list\n",
    "x=[]\n",
    "n=int(input(\"enter the range: \"))\n",
    "for i in range(n):\n",
    "    num3=input(\"enter the numbers: \")\n",
    "    if(num3.isdigit()):\n",
    "        num3=int(num3)\n",
    "        x.append(num3)\n",
    "    else:\n",
    "        x.append(num3)\n",
    "print(x)\n",
    "print(max(x))\n",
    "print(min(x))"
   ]
  },
  {
   "cell_type": "code",
   "execution_count": null,
   "id": "2e25445e",
   "metadata": {},
   "outputs": [],
   "source": [
    "# Write a Python program to print a specified list after removing the 0th, 4th and 5th elements"
   ]
  },
  {
   "cell_type": "code",
   "execution_count": 7,
   "id": "e893e484",
   "metadata": {},
   "outputs": [
    {
     "name": "stdout",
     "output_type": "stream",
     "text": [
      "python\n"
     ]
    }
   ],
   "source": [
    "#Write a Python program to convert a list of characters into a string\n",
    "x=[\"p\",\"y\",\"t\",\"h\",\"o\",\"n\"]\n",
    "y=''.join(x)\n",
    "print(y)"
   ]
  },
  {
   "cell_type": "code",
   "execution_count": 8,
   "id": "25d678bd",
   "metadata": {},
   "outputs": [
    {
     "name": "stdout",
     "output_type": "stream",
     "text": [
      "Enter range : 3\n",
      "Enter elements into list :5\n",
      "Enter elements into list :6\n",
      "Enter elements into list :2\n",
      "average : 4.333333333333333\n"
     ]
    }
   ],
   "source": [
    "#write a Python program to compute average of given lists.\n",
    "x=[]\n",
    "n=int(input(\"Enter range : \"))\n",
    "for i in range(0,n):\n",
    "    y=int(input(\"Enter elements into list :\"))\n",
    "    x.append(y)\n",
    "a=0\n",
    "for b in x:\n",
    "    a=a+b\n",
    "print(\"average : {}\".format(a/n))\n"
   ]
  },
  {
   "cell_type": "code",
   "execution_count": null,
   "id": "d92816ba",
   "metadata": {},
   "outputs": [],
   "source": [
    "# Write a Python program to count integer in a given mixed list"
   ]
  },
  {
   "cell_type": "code",
   "execution_count": 2,
   "id": "3990da80",
   "metadata": {},
   "outputs": [
    {
     "name": "stdout",
     "output_type": "stream",
     "text": [
      "Enter range : 5\n",
      "Enter elements into list :6\n",
      "Enter elements into list :4\n",
      "Enter elements into list :8\n",
      "Enter elements into list :9\n",
      "Enter elements into list :2\n",
      "['2', '9', '8', '4', '6']\n"
     ]
    }
   ],
   "source": [
    "# Write a Python program to reverse the list\n",
    "a=[]\n",
    "n=int(input(\"Enter range : \"))\n",
    "for i in range(0,n):\n",
    "    y=input(\"Enter elements into list :\")\n",
    "    a.append(y)\n",
    "r=a[::-1]\n",
    "print(r)\n"
   ]
  },
  {
   "cell_type": "code",
   "execution_count": 3,
   "id": "d7dcab43",
   "metadata": {},
   "outputs": [
    {
     "name": "stdout",
     "output_type": "stream",
     "text": [
      "enter a string: urmila\n",
      "('u', 'r', 'm', 'i', 'l', 'a')\n"
     ]
    }
   ],
   "source": [
    "# Write a Python program convert a given string to a tuple\n",
    "\n",
    "x=input(\"enter a string: \")\n",
    "y=tuple(x)\n",
    "print(y)"
   ]
  },
  {
   "cell_type": "code",
   "execution_count": null,
   "id": "ad50d316",
   "metadata": {},
   "outputs": [],
   "source": []
  }
 ],
 "metadata": {
  "kernelspec": {
   "display_name": "Python 3 (ipykernel)",
   "language": "python",
   "name": "python3"
  },
  "language_info": {
   "codemirror_mode": {
    "name": "ipython",
    "version": 3
   },
   "file_extension": ".py",
   "mimetype": "text/x-python",
   "name": "python",
   "nbconvert_exporter": "python",
   "pygments_lexer": "ipython3",
   "version": "3.11.3"
  }
 },
 "nbformat": 4,
 "nbformat_minor": 5
}
