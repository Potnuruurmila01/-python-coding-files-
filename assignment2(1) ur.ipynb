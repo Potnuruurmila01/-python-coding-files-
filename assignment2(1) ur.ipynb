{
 "cells": [
  {
   "cell_type": "code",
   "execution_count": 2,
   "id": "0b159f46",
   "metadata": {},
   "outputs": [
    {
     "name": "stdout",
     "output_type": "stream",
     "text": [
      "enter the num:2\n",
      "enter the num:4\n",
      "enter the symbol:*/*\n",
      "2*4=8\n"
     ]
    }
   ],
   "source": [
    "# Write a program to accept two numbers from the user and calculate multiplication, division\n",
    "#multiplication\n",
    "x=int(input(\"enter the num:\"))\n",
    "y=int(input(\"enter the num:\"))\n",
    "symbol=(input(\"enter the symbol:*/\"))\n",
    "\n",
    "\n",
    "if symbol==\"*\":\n",
    "    print(\"{}*{}={}\".format(x,y,x*y))\n",
    "elif symbol==\"/\":\n",
    "    print(\"{}/{}={}\".format(x,y,x/y))\n",
    "else:\n",
    "    print(\"none\")"
   ]
  },
  {
   "cell_type": "code",
   "execution_count": 7,
   "id": "4ce164e8",
   "metadata": {},
   "outputs": [
    {
     "name": "stdout",
     "output_type": "stream",
     "text": [
      "enter the num:4\n",
      "enter the num:2\n",
      "enter the symbol:*//\n",
      "4/2=2.0\n"
     ]
    }
   ],
   "source": [
    "# dividion \n",
    "x=int(input(\"enter the num:\"))\n",
    "y=int(input(\"enter the num:\"))\n",
    "symbol=(input(\"enter the symbol:*/\"))\n",
    "\n",
    "\n",
    "if symbol==\"*\":\n",
    "    print(\"{}*{}={}\".format(x,y,x*y))\n",
    "elif symbol==\"/\":\n",
    "    print(\"{}/{}={}\".format(x,y,x/y))\n",
    "else:\n",
    "    print(\"none\")"
   ]
  },
  {
   "cell_type": "code",
   "execution_count": 19,
   "id": "af28d351",
   "metadata": {},
   "outputs": [
    {
     "name": "stdout",
     "output_type": "stream",
     "text": [
      "Even: ['u', 'm', 'l']\n"
     ]
    }
   ],
   "source": [
    "#2 Write a python program to print the characters from a string that are present at an even index\n",
    "var1=\"urmila\"\n",
    "even = [] \n",
    "odd = []\n",
    " \n",
    "for i in range(len(var1)):\n",
    "    if i % 2 == 0:  \n",
    "        even.append(var1[i])\n",
    "    else:\n",
    "        odd.append(var1[i])\n",
    "print('Even: {}'.format(even))\n"
   ]
  },
  {
   "cell_type": "code",
   "execution_count": 20,
   "id": "02560cfc",
   "metadata": {},
   "outputs": [
    {
     "name": "stdout",
     "output_type": "stream",
     "text": [
      "odd: ['r', 'i', 'a']\n"
     ]
    }
   ],
   "source": [
    "#3 write a python program to print the characters from a string that are present at an odd index\n",
    "var1=\"urmila\"\n",
    "even = [] \n",
    "odd = []\n",
    " \n",
    "for i in range(len(var1)):\n",
    "    if i % 2 == 0:  \n",
    "        even.append(var1[i])\n",
    "    else:\n",
    "        odd.append(var1[i])\n",
    "print('odd: {}'.format(odd))"
   ]
  },
  {
   "cell_type": "code",
   "execution_count": 5,
   "id": "b380008d",
   "metadata": {},
   "outputs": [
    {
     "name": "stdout",
     "output_type": "stream",
     "text": [
      "enter the number:8\n",
      "enter the number:6\n",
      "14\n"
     ]
    }
   ],
   "source": [
    "#4 Write a python program which will print the sum of the two numbers if the two numbers are even or\n",
    "#it will print the difference of two numbers\n",
    "\n",
    "num1=int(input(\"enter the number:\"))\n",
    "num2=int(input(\"enter the number:\"))\n",
    "\n",
    "if num1%2==0 and num2%2==0:\n",
    "    print(num1+num2)\n",
    "else:\n",
    "    print(num1-num2)\n"
   ]
  },
  {
   "cell_type": "code",
   "execution_count": 13,
   "id": "e112268c",
   "metadata": {},
   "outputs": [
    {
     "name": "stdout",
     "output_type": "stream",
     "text": [
      " UrMiLa\n"
     ]
    }
   ],
   "source": [
    "#Write a python program to convert all even indexed alphabets to upper and odd indexed char\n",
    "x = \"urmila\"\n",
    "z = \" \"\n",
    "for y in range(0,len(x)):\n",
    "    if y%2==0:\n",
    "        z = z + x[y].upper()\n",
    "    else:\n",
    "        z = z + x[y]\n",
    "print(z)"
   ]
  },
  {
   "cell_type": "code",
   "execution_count": 3,
   "id": "37990151",
   "metadata": {},
   "outputs": [
    {
     "name": "stdout",
     "output_type": "stream",
     "text": [
      "enter the number:5\n",
      "True\n"
     ]
    }
   ],
   "source": [
    "#6 write a python program which will print True if the input number is divisible by 5 or else False\n",
    "\n",
    "num1=int(input(\"enter the number:\"))\n",
    "if num1%5==0:\n",
    "    print(\"True\")\n",
    "else:\n",
    "    print(\"false\")"
   ]
  },
  {
   "cell_type": "code",
   "execution_count": 9,
   "id": "e47ce50d",
   "metadata": {},
   "outputs": [
    {
     "name": "stdout",
     "output_type": "stream",
     "text": [
      "enter the number:150\n",
      "enter the number:100\n",
      "15000\n"
     ]
    }
   ],
   "source": [
    "# 7 Given two integer numbers return their product only if the product is greater than 1000, else return their sum\n",
    "num1=int(input(\"enter the number:\"))\n",
    "num2=int(input(\"enter the number:\"))\n",
    "prod=(num1*num2)\n",
    "add=(num1+num2)\n",
    "if prod>1000:\n",
    "    print(prod)\n",
    "else:\n",
    "    print(add)"
   ]
  },
  {
   "cell_type": "code",
   "execution_count": 18,
   "id": "b44dbd8e",
   "metadata": {},
   "outputs": [
    {
     "name": "stdout",
     "output_type": "stream",
     "text": [
      "pjtvos\n"
     ]
    }
   ],
   "source": [
    "#8 Given two strings x, y writes a program to return a new string made of x and y’s first, middle, and last characters\n",
    "\n",
    "X= \"pytho\"\n",
    "Y= \"javas\"\n",
    "s = \"\"\n",
    "for i in range(0,5):\n",
    "    if i%2==0:\n",
    "        s = s+X[i]+Y[i]\n",
    "print(s)\n"
   ]
  },
  {
   "cell_type": "code",
   "execution_count": 12,
   "id": "c46ca8c3",
   "metadata": {},
   "outputs": [],
   "source": [
    "#Write a python program to take three names as input from a user in the single input () function call\n",
    "def names(name1,name2,name3):\n",
    "    print(\"name1:{}\\n name2:{}\\n name3:{}\\n\".format(name1,name2,name3))"
   ]
  },
  {
   "cell_type": "code",
   "execution_count": 14,
   "id": "389aca37",
   "metadata": {},
   "outputs": [
    {
     "name": "stdout",
     "output_type": "stream",
     "text": [
      "name1: person1\n",
      " name2:person2\n",
      " name3:person3\n",
      "\n"
     ]
    }
   ],
   "source": [
    "names(name1=\"person1\",name2=\"person2\",name3=\"person3\")"
   ]
  },
  {
   "cell_type": "code",
   "execution_count": 19,
   "id": "e92d50f8",
   "metadata": {},
   "outputs": [
    {
     "name": "stdout",
     "output_type": "stream",
     "text": [
      "Enter a str:malayalam\n"
     ]
    },
    {
     "data": {
      "text/plain": [
       "'malayala@'"
      ]
     },
     "execution_count": 19,
     "metadata": {},
     "output_type": "execute_result"
    }
   ],
   "source": [
    "#Write a Python program to get a string from a given string where all occurrences of its first char have been \n",
    "#changed to '@', except the first char itself.\n",
    "\n",
    "str = input(\"Enter a str:\")\n",
    "x=str[1:].replace(str[0], '@')\n",
    "str[0]+x"
   ]
  },
  {
   "cell_type": "code",
   "execution_count": 21,
   "id": "d825f7de",
   "metadata": {},
   "outputs": [
    {
     "name": "stdout",
     "output_type": "stream",
     "text": [
      "Enter a string playing\n",
      "playly\n"
     ]
    }
   ],
   "source": [
    "#11 Write a Python program to add 'ing' at the end of a given string (string length should be equal to or more than 3). If \n",
    "#the given string already ends with 'ing' then add 'ly' instead. If the string length of the given string is less than 3, \n",
    "#leave it unchanged\n",
    "var1 = input(\"Enter a string \")\n",
    "if len(var1) < 3:\n",
    "  print(var1)\n",
    "else:\n",
    "    if \"ing\" in var1:\n",
    "        print(var1.replace(\"ing\",\"ly\"))\n",
    "    else:\n",
    "        print(var1+\"ing\")"
   ]
  },
  {
   "cell_type": "code",
   "execution_count": 3,
   "id": "36c0b793",
   "metadata": {},
   "outputs": [
    {
     "name": "stdout",
     "output_type": "stream",
     "text": [
      "enter a num:10\n",
      "enter a num:5\n",
      "true\n"
     ]
    }
   ],
   "source": [
    "#12 Write a python program that accepts two inputs num1 and num2 print True if one of them is 10 or if their sum is 10\n",
    "#otherwise print False\n",
    "\n",
    "num1=int(input(\"enter a num:\"))\n",
    "num2=int(input(\"enter a num:\"))\n",
    "\n",
    "if num1==10 or num2==10 or (num1+num2)==10:\n",
    "    print(\"true\")\n",
    "else:\n",
    "    print(\"false\")"
   ]
  },
  {
   "cell_type": "code",
   "execution_count": 5,
   "id": "65febdd6",
   "metadata": {},
   "outputs": [
    {
     "name": "stdout",
     "output_type": "stream",
     "text": [
      "enter a num:6\n",
      "enter a num:6\n",
      "enter a num:30\n",
      "true\n"
     ]
    }
   ],
   "source": [
    "#13  Write a python program that accepts three inputs x, y and z print True if x*y>z otherwise False\n",
    "\n",
    "x=int(input(\"enter a num:\"))\n",
    "y=int(input(\"enter a num:\"))\n",
    "z=int(input(\"enter a num:\"))\n",
    "if x*y>z:\n",
    "    print(\"true\")\n",
    "else:\n",
    "    print(\"false\")"
   ]
  },
  {
   "cell_type": "code",
   "execution_count": 1,
   "id": "6e9d7457",
   "metadata": {},
   "outputs": [
    {
     "name": "stdout",
     "output_type": "stream",
     "text": [
      "enter the string: urmila\n",
      "enter the string: rajeev\n",
      "true\n"
     ]
    }
   ],
   "source": [
    "#14 Write a python program that accepts two strings inputs return True depending on whether the total number of \n",
    "#characters in the first string is equal to the total number of characters in the second string)\n",
    "str1=input(\"enter the string: \")\n",
    "str2=input(\"enter the string: \")\n",
    "if len(str1)==len(str2):\n",
    "    print(\"true\")\n",
    "else:\n",
    "    print(\"false\")"
   ]
  },
  {
   "cell_type": "code",
   "execution_count": 6,
   "id": "2dc1415f",
   "metadata": {},
   "outputs": [
    {
     "name": "stdout",
     "output_type": "stream",
     "text": [
      "enter the string:urmila\n",
      "non plural\n"
     ]
    }
   ],
   "source": [
    "#16 Write a python program that takes in a word and determines whether or not it is plural. \n",
    "#A plural word is one that ends in \"s\".\n",
    "string1=input(\"enter the string:\")\n",
    "if string1.endswith(\"s\"):\n",
    "    print(\"plural\")\n",
    "else:\n",
    "    print(\"non plural\")"
   ]
  },
  {
   "cell_type": "code",
   "execution_count": 7,
   "id": "6d4d51ea",
   "metadata": {},
   "outputs": [
    {
     "name": "stdout",
     "output_type": "stream",
     "text": [
      "Enter the age of customer 20\n",
      "Enter whether bartender is on or off duty on\n",
      "True\n",
      "Serve the Customer\n"
     ]
    }
   ],
   "source": [
    "#17 A bartender is writing a simple program to determine whether he should serve drinks to someone. He only serves \n",
    "#drinks to people 18 and older and when he's not on break(True means break and False means not a break time). Given \n",
    "#the person's age, and whether break time is in session, create a python program which prints whether he should serve drinks or not.\n",
    "age = int(input(\"Enter the age of customer \"))\n",
    "session = bool(input(\"Enter whether bartender is on or off duty \"))\n",
    "print(session)\n",
    "if age >= 18 and session == True:\n",
    "    print(\"Serve the Customer\")\n",
    "else:\n",
    "    print(\"Cannot serve the Customer\")"
   ]
  },
  {
   "cell_type": "code",
   "execution_count": 14,
   "id": "e5e44c61",
   "metadata": {},
   "outputs": [],
   "source": [
    "#18 Manoj Kumar has family and friends. Help him remind them who is who. Given a string with a name, return the \n",
    "#relation of that person to Manoj Kumar.\n",
    "\n",
    "relation={\"shiva\":\"father\",\"letha\":\"mother\",\"tarun\":\"brother\",\"kavitha\":\"sister\"}\n"
   ]
  },
  {
   "cell_type": "code",
   "execution_count": 13,
   "id": "3ea00343",
   "metadata": {},
   "outputs": [
    {
     "data": {
      "text/plain": [
       "'father'"
      ]
     },
     "execution_count": 13,
     "metadata": {},
     "output_type": "execute_result"
    }
   ],
   "source": [
    "relation[\"shiva\"]"
   ]
  },
  {
   "cell_type": "code",
   "execution_count": null,
   "id": "940e340f",
   "metadata": {},
   "outputs": [],
   "source": [
    "#19 Write a python program that takes a string, breaks it up and returns it with vowels first, consonants second. For any \n",
    "#character that's not a vowel (like special characters or spaces), treat them like consonants\n",
    "\n"
   ]
  },
  {
   "cell_type": "code",
   "execution_count": 1,
   "id": "e4f35f8a",
   "metadata": {},
   "outputs": [
    {
     "name": "stdout",
     "output_type": "stream",
     "text": [
      "Type first number: 5\n",
      "Type any of this (+, -, *, /, %, **): *\n",
      "Type second number: 6\n",
      "30\n",
      "Type first number: 6\n",
      "Type any of this (+, -, *, /, %, **): +\n",
      "Type second number: 4\n",
      "10\n",
      "Type first number: 10\n",
      "Type any of this (+, -, *, /, %, **): *\n",
      "Type second number: 19\n",
      "190\n"
     ]
    }
   ],
   "source": [
    "#20 Create a dynamic calculator which asks for numbers and operator and return the answers\n",
    "for i in range(0,3):\n",
    "    num1 = int(input(\"Type first number: \"))\n",
    "    sym = input(\"Type any of this (+, -, *, /, %, **): \")\n",
    "    num2 = int(input(\"Type second number: \"))\n",
    "    if sym == \"+\":\n",
    "        print(num1+num2)\n",
    "    elif sym == \"-\":\n",
    "        print(num1-num2)\n",
    "    elif sym == \"*\":\n",
    "        print(num1*num2)\n",
    "    elif sym == \"/\":\n",
    "        print(num1/num2)\n",
    "    elif sym == \"%\":\n",
    "        print(num1%num2)\n",
    "    elif sym == \"**\":\n",
    "        print(num1**num2)\n",
    "    else:\n",
    "        print(\"none\")"
   ]
  },
  {
   "cell_type": "code",
   "execution_count": 1,
   "id": "702c3397",
   "metadata": {},
   "outputs": [
    {
     "name": "stdout",
     "output_type": "stream",
     "text": [
      "type first number:10\n",
      "type any of this: +,/,*,-,**,%*\n",
      "type second number:19\n",
      "10*19=190\n"
     ]
    }
   ],
   "source": [
    " num1=int(input(\"type first number:\"))\n",
    "symbol=(input(\"type any of this: +,/,*,-,**,%\"))\n",
    "num2=int(input(\"type second number:\"))\n",
    "\n",
    "if symbol==\"+\":\n",
    "    print(\"{}+{}={}\".format(num1,num2,num1+num2))\n",
    "elif symbol==\"/\":\n",
    "    print(\"{}/{}={}\".format(num1,num2,num1/num2))\n",
    "elif symbol==\"*\":\n",
    "    print(\"{}*{}={}\".format(num1,num2,num1*num2))\n",
    "elif symbol==\"-\":\n",
    "    print(\"{}-{}={}\".format(num1,num2,num1-num2))\n",
    "elif symbol==\"%\":\n",
    "    print(\"{}%{}={}\".format(num1,num2,num1%num2))\n",
    "elif symbol==\"**\":\n",
    "    print(\"{}**{}={}\".format(num1,num2,num1**num2))\n",
    "else:\n",
    "    print(\"none\")"
   ]
  },
  {
   "cell_type": "code",
   "execution_count": null,
   "id": "5cb9d8cf",
   "metadata": {},
   "outputs": [],
   "source": []
  }
 ],
 "metadata": {
  "kernelspec": {
   "display_name": "Python 3 (ipykernel)",
   "language": "python",
   "name": "python3"
  },
  "language_info": {
   "codemirror_mode": {
    "name": "ipython",
    "version": 3
   },
   "file_extension": ".py",
   "mimetype": "text/x-python",
   "name": "python",
   "nbconvert_exporter": "python",
   "pygments_lexer": "ipython3",
   "version": "3.11.3"
  }
 },
 "nbformat": 4,
 "nbformat_minor": 5
}
