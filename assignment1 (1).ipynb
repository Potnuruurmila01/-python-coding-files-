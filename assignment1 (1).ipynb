{
 "cells": [
  {
   "cell_type": "code",
   "execution_count": 2,
   "id": "9f276d98",
   "metadata": {},
   "outputs": [
    {
     "data": {
      "text/plain": [
       "'urmila'"
      ]
     },
     "execution_count": 2,
     "metadata": {},
     "output_type": "execute_result"
    }
   ],
   "source": [
    "# 1.Write a python program to convert a string to lower case?\n",
    "\n",
    "x=\"URMILA\"\n",
    "x.lower()"
   ]
  },
  {
   "cell_type": "code",
   "execution_count": 10,
   "id": "db321726",
   "metadata": {},
   "outputs": [
    {
     "data": {
      "text/plain": [
       "'PyThOn'"
      ]
     },
     "execution_count": 10,
     "metadata": {},
     "output_type": "execute_result"
    }
   ],
   "source": [
    "#2.Write a python program to convert only odd indexed characters to lower case\n",
    "x=\"PYTHON\"\n",
    "x[0]+x[1].lower()+x[2]+x[3].lower()+x[4]+x[5].lower()"
   ]
  },
  {
   "cell_type": "code",
   "execution_count": 11,
   "id": "d203901c",
   "metadata": {},
   "outputs": [
    {
     "data": {
      "text/plain": [
       "'pYtHoN'"
      ]
     },
     "execution_count": 11,
     "metadata": {},
     "output_type": "execute_result"
    }
   ],
   "source": [
    "#Write a python program to convert only even indexed characters to lower case\n",
    "x=\"PYTHON\"\n",
    "x[0].lower()+x[1]+x[2].lower()+x[3]+x[4].lower()+x[5]\n"
   ]
  },
  {
   "cell_type": "code",
   "execution_count": 13,
   "id": "d939b279",
   "metadata": {},
   "outputs": [
    {
     "data": {
      "text/plain": [
       "'pYtHoN'"
      ]
     },
     "execution_count": 13,
     "metadata": {},
     "output_type": "execute_result"
    }
   ],
   "source": [
    "#Write a python program to convert only odd indexed characters to upper case\n",
    "x=\"python\"\n",
    "x[0]+x[1].upper()+x[2]+x[3].upper()+x[4]+x[5].upper()"
   ]
  },
  {
   "cell_type": "code",
   "execution_count": 15,
   "id": "33ef317d",
   "metadata": {},
   "outputs": [
    {
     "data": {
      "text/plain": [
       "'PyThOn'"
      ]
     },
     "execution_count": 15,
     "metadata": {},
     "output_type": "execute_result"
    }
   ],
   "source": [
    "#Write a python program to convert only even indexed characters to upper case\n",
    "\n",
    "x=\"python\"\n",
    "x[0].upper()+x[1]+x[2].upper()+x[3]+x[4].upper()+x[5]"
   ]
  },
  {
   "cell_type": "code",
   "execution_count": 2,
   "id": "6abd9762",
   "metadata": {},
   "outputs": [
    {
     "name": "stdout",
     "output_type": "stream",
     "text": [
      "enter a name:urmila\n",
      "enter a sex:female\n",
      "enter age:21\n",
      "enter num:9618220431\n",
      "enter a father name:ramesh\n",
      "enter a mother name:jyothi\n",
      "my name is urmila\n",
      "my sex is female\n",
      "my age is 21\n",
      "my phone_no is 9618220431\n",
      "my father name is ramesh\n",
      "my mother name is jyothi\n"
     ]
    }
   ],
   "source": [
    "#Write a python program where you have different variable which contains your name ,sex,age, phone no ,fathers name \n",
    "#and mothers name.And by using this variable create a variable named bio-data where you will use all\n",
    "\n",
    "#this variable\n",
    "\n",
    "#Ex:-print(bio-data)\n",
    "\n",
    "#Output:- My name is …., My age is ….,My\n",
    "\n",
    "#phone-no is ….,my fathers name is …,and my\n",
    "\n",
    "#mothers name is……\n",
    "\n",
    "\n",
    "name=input(\"enter a name:\")\n",
    "sex=input(\"enter a sex:\")\n",
    "age=int(input(\"enter age:\"))\n",
    "phone_no=int(input(\"enter num:\"))\n",
    "fathername=input(\"enter a father name:\")\n",
    "mothername=input(\"enter a mother name:\")\n",
    "print(\"my name is {}\".format(name))\n",
    "print(\"my sex is {}\".format(sex))\n",
    "print(\"my age is {}\".format(age))\n",
    "print(\"my phone_no is {}\".format(phone_no))\n",
    "print(\"my father name is {}\".format(fathername))\n",
    "print(\"my mother name is {}\".format(mothername))"
   ]
  },
  {
   "cell_type": "code",
   "execution_count": 4,
   "id": "ecf91a68",
   "metadata": {},
   "outputs": [
    {
     "data": {
      "text/plain": [
       "8"
      ]
     },
     "execution_count": 4,
     "metadata": {},
     "output_type": "execute_result"
    }
   ],
   "source": [
    "#Write a python program to count how many times “@” occurred\n",
    "var1=\"@@@@urmila@@@@\"\n",
    "var1.count(\"@\")"
   ]
  },
  {
   "cell_type": "code",
   "execution_count": 8,
   "id": "cbe334b7",
   "metadata": {},
   "outputs": [
    {
     "data": {
      "text/plain": [
       "('name1', 'name2', 'name3')"
      ]
     },
     "execution_count": 8,
     "metadata": {},
     "output_type": "execute_result"
    }
   ],
   "source": [
    "#Write a python program to get only names from the string “name1.@gmail.com,name2.@gmail.com,name 3.@gmail.com” \n",
    "#Output-name1,name2,name3\n",
    "x=\"name1.@gmail.com,name2.@gmail.com,name3.@gmail.com\"\n",
    "x[0:5],x[17:22],x[34:39]"
   ]
  },
  {
   "cell_type": "code",
   "execution_count": 10,
   "id": "2ab97fed",
   "metadata": {},
   "outputs": [
    {
     "data": {
      "text/plain": [
       "'mei'"
      ]
     },
     "execution_count": 10,
     "metadata": {},
     "output_type": "execute_result"
    }
   ],
   "source": [
    "#Given a string of odd length greater that 9, return a new string made of the middle three characters of a given String\n",
    "x=\"mynameissan\"\n",
    "x[4:7]"
   ]
  },
  {
   "cell_type": "code",
   "execution_count": 17,
   "id": "afba56ed",
   "metadata": {},
   "outputs": [
    {
     "data": {
      "text/plain": [
       "'mysan'"
      ]
     },
     "execution_count": 17,
     "metadata": {},
     "output_type": "execute_result"
    }
   ],
   "source": [
    "#Write a python program to insert a 2 string in the middle of 1 string\n",
    "str1=\"myn\"\n",
    "str2=\"sa\"\n",
    "str1[0:2]+str2+str1[2:4]"
   ]
  },
  {
   "cell_type": "code",
   "execution_count": 18,
   "id": "306f7844",
   "metadata": {},
   "outputs": [
    {
     "data": {
      "text/plain": [
       "'msayn'"
      ]
     },
     "execution_count": 18,
     "metadata": {},
     "output_type": "execute_result"
    }
   ],
   "source": [
    "str1=\"myn\"\n",
    "str2=\"sa\"\n",
    "str1[0:1]+str2+str1[1:4]"
   ]
  },
  {
   "cell_type": "code",
   "execution_count": 22,
   "id": "963d40eb",
   "metadata": {},
   "outputs": [
    {
     "data": {
      "text/plain": [
       "'bcdfghjklmnpqrstvwxyz'"
      ]
     },
     "execution_count": 22,
     "metadata": {},
     "output_type": "execute_result"
    }
   ],
   "source": [
    "#Write a program to remove vowels from\n",
    "\n",
    "\n",
    "#the entire alphabets Ex:- “abcdefghijklmnopqrstuvwxyz” Output:- “bcdfghjklmnpqrstvwxyz”\n",
    "\n",
    "x=\"abcdefghijklmnopqrstuvwxyz\"\n",
    "x.replace(\"a\",\"\").replace(\"e\",\"\").replace(\"i\",\"\").replace(\"o\",\"\").replace(\"u\",\"\")"
   ]
  },
  {
   "cell_type": "code",
   "execution_count": null,
   "id": "737cffbe",
   "metadata": {},
   "outputs": [],
   "source": []
  }
 ],
 "metadata": {
  "kernelspec": {
   "display_name": "Python 3 (ipykernel)",
   "language": "python",
   "name": "python3"
  },
  "language_info": {
   "codemirror_mode": {
    "name": "ipython",
    "version": 3
   },
   "file_extension": ".py",
   "mimetype": "text/x-python",
   "name": "python",
   "nbconvert_exporter": "python",
   "pygments_lexer": "ipython3",
   "version": "3.11.3"
  }
 },
 "nbformat": 4,
 "nbformat_minor": 5
}
