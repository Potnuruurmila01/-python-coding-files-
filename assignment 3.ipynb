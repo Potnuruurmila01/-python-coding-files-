{
 "cells": [
  {
   "cell_type": "code",
   "execution_count": 28,
   "id": "7ba8de82",
   "metadata": {},
   "outputs": [
    {
     "name": "stdout",
     "output_type": "stream",
     "text": [
      "1\n",
      "22\n",
      "333\n",
      "4444\n",
      "55555\n"
     ]
    }
   ],
   "source": [
    "x=1\n",
    "while x<=5:\n",
    "    if  x==1:\n",
    "        print(\"1\")\n",
    "    elif x==2:\n",
    "        print(\"22\")\n",
    "    elif x==3:\n",
    "        print(\"333\")\n",
    "    elif x==4:\n",
    "        print(\"4444\")\n",
    "    else:\n",
    "        print(\"55555\")\n",
    "    x=x+1"
   ]
  },
  {
   "cell_type": "code",
   "execution_count": 10,
   "id": "bc803909",
   "metadata": {},
   "outputs": [
    {
     "name": "stdout",
     "output_type": "stream",
     "text": [
      "1\n",
      "12\n",
      "123\n",
      "1234\n",
      "12345\n"
     ]
    }
   ],
   "source": [
    "x=1\n",
    "while x<=5:\n",
    "    if  x==1:\n",
    "        print(\"1\")\n",
    "    elif x==2:\n",
    "        print(\"12\")\n",
    "    elif x==3:\n",
    "        print(\"123\")\n",
    "    elif x==4:\n",
    "        print(\"1234\")\n",
    "    else:\n",
    "        print(\"12345\")\n",
    "    x=x+1"
   ]
  },
  {
   "cell_type": "code",
   "execution_count": 11,
   "id": "33112469",
   "metadata": {},
   "outputs": [
    {
     "name": "stdout",
     "output_type": "stream",
     "text": [
      "11111\n",
      "2222\n",
      "333\n",
      "44\n",
      "5\n"
     ]
    }
   ],
   "source": [
    "x=1\n",
    "while x<=5:\n",
    "    if  x==1:\n",
    "        print(\"11111\")\n",
    "    elif x==2:\n",
    "        print(\"2222\")\n",
    "    elif x==3:\n",
    "        print(\"333\")\n",
    "    elif x==4:\n",
    "        print(\"44\")\n",
    "    else:\n",
    "        print(\"5\")\n",
    "    x=x+1"
   ]
  },
  {
   "cell_type": "code",
   "execution_count": 12,
   "id": "dc7234c3",
   "metadata": {},
   "outputs": [
    {
     "name": "stdout",
     "output_type": "stream",
     "text": [
      "55555\n",
      "5555\n",
      "555\n",
      "55\n",
      "5\n"
     ]
    }
   ],
   "source": [
    "x=1\n",
    "while x<=5:\n",
    "    if  x==1:\n",
    "        print(\"55555\")\n",
    "    elif x==2:\n",
    "        print(\"5555\")\n",
    "    elif x==3:\n",
    "        print(\"555\")\n",
    "    elif x==4:\n",
    "        print(\"55\")\n",
    "    else:\n",
    "        print(\"5\")\n",
    "    x=x+1"
   ]
  },
  {
   "cell_type": "code",
   "execution_count": 14,
   "id": "da216f6c",
   "metadata": {},
   "outputs": [
    {
     "name": "stdout",
     "output_type": "stream",
     "text": [
      "012345\n",
      "01234\n",
      "0123\n",
      "012\n",
      "01\n"
     ]
    }
   ],
   "source": [
    "x=1\n",
    "while x<=5:\n",
    "    if  x==1:\n",
    "        print(\"012345\")\n",
    "    elif x==2:\n",
    "        print(\"01234\")\n",
    "    elif x==3:\n",
    "        print(\"0123\")\n",
    "    elif x==4:\n",
    "        print(\"012\")\n",
    "    else:\n",
    "        print(\"01\")\n",
    "    x=x+1"
   ]
  },
  {
   "cell_type": "code",
   "execution_count": 15,
   "id": "73b7e5e5",
   "metadata": {},
   "outputs": [
    {
     "name": "stdout",
     "output_type": "stream",
     "text": [
      "1\n",
      "33\n",
      "555\n",
      "7777\n",
      "99999\n"
     ]
    }
   ],
   "source": [
    "x=1\n",
    "while x<=5:\n",
    "    if  x==1:\n",
    "        print(\"1\")\n",
    "    elif x==2:\n",
    "        print(\"33\")\n",
    "    elif x==3:\n",
    "        print(\"555\")\n",
    "    elif x==4:\n",
    "        print(\"7777\")\n",
    "    else:\n",
    "        print(\"99999\")\n",
    "    x=x+1"
   ]
  },
  {
   "cell_type": "code",
   "execution_count": 16,
   "id": "63acf818",
   "metadata": {},
   "outputs": [
    {
     "name": "stdout",
     "output_type": "stream",
     "text": [
      "55555\n",
      "4444\n",
      "333\n",
      "22\n",
      "1\n"
     ]
    }
   ],
   "source": [
    "x=1\n",
    "while x<=5:\n",
    "    if  x==1:\n",
    "        print(\"55555\")\n",
    "    elif x==2:\n",
    "        print(\"4444\")\n",
    "    elif x==3:\n",
    "        print(\"333\")\n",
    "    elif x==4:\n",
    "        print(\"22\")\n",
    "    else:\n",
    "        print(\"1\")\n",
    "    x=x+1"
   ]
  },
  {
   "cell_type": "code",
   "execution_count": 17,
   "id": "ba10e16f",
   "metadata": {},
   "outputs": [
    {
     "name": "stdout",
     "output_type": "stream",
     "text": [
      "1\n",
      "21\n",
      "321\n",
      "4321\n",
      "54321\n"
     ]
    }
   ],
   "source": [
    "x=1\n",
    "while x<=5:\n",
    "    if  x==1:\n",
    "        print(\"1\")\n",
    "    elif x==2:\n",
    "        print(\"21\")\n",
    "    elif x==3:\n",
    "        print(\"321\")\n",
    "    elif x==4:\n",
    "        print(\"4321\")\n",
    "    else:\n",
    "        print(\"54321\")\n",
    "    x=x+1"
   ]
  },
  {
   "cell_type": "code",
   "execution_count": 18,
   "id": "0be4d880",
   "metadata": {},
   "outputs": [
    {
     "name": "stdout",
     "output_type": "stream",
     "text": [
      "54321\n",
      "4321\n",
      "321\n",
      "21\n",
      "1\n"
     ]
    }
   ],
   "source": [
    "x=1\n",
    "while x<=5:\n",
    "    if  x==1:\n",
    "        print(\"54321\")\n",
    "    elif x==2:\n",
    "        print(\"4321\")\n",
    "    elif x==3:\n",
    "        print(\"321\")\n",
    "    elif x==4:\n",
    "        print(\"21\")\n",
    "    else:\n",
    "        print(\"1\")\n",
    "    x=x+1"
   ]
  },
  {
   "cell_type": "code",
   "execution_count": 20,
   "id": "f4644d1b",
   "metadata": {},
   "outputs": [
    {
     "name": "stdout",
     "output_type": "stream",
     "text": [
      "1\n",
      "3 2\n",
      "6 5 4\n",
      "10 9 8 7\n"
     ]
    }
   ],
   "source": [
    "x=1\n",
    "while x<=4:\n",
    "    if  x==1:\n",
    "        print(\"1\")\n",
    "    elif x==2:\n",
    "        print(\"3 2\")\n",
    "    elif x==3:\n",
    "        print(\"6 5 4\")\n",
    "    else:\n",
    "        print(\"10 9 8 7\")\n",
    "    x=x+1"
   ]
  },
  {
   "cell_type": "code",
   "execution_count": 21,
   "id": "cbdffa30",
   "metadata": {},
   "outputs": [
    {
     "name": "stdout",
     "output_type": "stream",
     "text": [
      "    1\n",
      "   12\n",
      "  123\n",
      " 1234\n",
      "12345\n"
     ]
    }
   ],
   "source": [
    "x=1\n",
    "while x<=5:\n",
    "    if  x==1:\n",
    "        print(\"    1\")\n",
    "    elif x==2:\n",
    "        print(\"   12\")\n",
    "    elif x==3:\n",
    "        print(\"  123\")\n",
    "    elif x==4:\n",
    "        print(\" 1234\")\n",
    "    else:\n",
    "        print(\"12345\")\n",
    "    x=x+1"
   ]
  },
  {
   "cell_type": "code",
   "execution_count": 24,
   "id": "3596a570",
   "metadata": {},
   "outputs": [
    {
     "name": "stdout",
     "output_type": "stream",
     "text": [
      "1\n",
      "1 1\n",
      "1 2 1\n",
      "1 3 3 1\n",
      "1 4 6 4 1\n",
      "1 5 10 10 5 1\n",
      "1 6 15 20 15 6 1\n"
     ]
    }
   ],
   "source": [
    "x=1\n",
    "while x<=7:\n",
    "    if  x==1:\n",
    "        print(\"1\")\n",
    "    elif x==2:\n",
    "        print(\"1 1\")\n",
    "    elif x==3:\n",
    "        print(\"1 2 1\")\n",
    "    elif x==4:\n",
    "        print(\"1 3 3 1\")\n",
    "    elif x==5:\n",
    "        print(\"1 4 6 4 1\")\n",
    "    elif x==6:\n",
    "        print(\"1 5 10 10 5 1\")\n",
    "    else:\n",
    "        print(\"1 6 15 20 15 6 1\")\n",
    "    x=x+1"
   ]
  },
  {
   "cell_type": "code",
   "execution_count": 25,
   "id": "60357559",
   "metadata": {},
   "outputs": [
    {
     "name": "stdout",
     "output_type": "stream",
     "text": [
      "12345\n",
      "22345\n",
      "33345\n",
      "44445\n",
      "55555\n"
     ]
    }
   ],
   "source": [
    "x=1\n",
    "while x<=5:\n",
    "    if  x==1:\n",
    "        print(\"12345\")\n",
    "    elif x==2:\n",
    "        print(\"22345\")\n",
    "    elif x==3:\n",
    "        print(\"33345\")\n",
    "    elif x==4:\n",
    "        print(\"44445\")\n",
    "    else:\n",
    "        print(\"55555\")\n",
    "    x=x+1"
   ]
  },
  {
   "cell_type": "code",
   "execution_count": 27,
   "id": "ee6838a1",
   "metadata": {},
   "outputs": [
    {
     "name": "stdout",
     "output_type": "stream",
     "text": [
      "1\n",
      "2 4\n",
      "3 6 9\n",
      "4 8 12 16\n",
      "5 10 15 20 25\n",
      "6 12 18 24 30 36\n",
      "7 14 21 28 35 42 49\n",
      "8 16 24 32 40 48 56 64\n"
     ]
    }
   ],
   "source": [
    "x=1\n",
    "while x<=8:\n",
    "    if  x==1:\n",
    "        print(\"1\")\n",
    "    elif x==2:\n",
    "        print(\"2 4\")\n",
    "    elif x==3:\n",
    "        print(\"3 6 9\")\n",
    "    elif x==4:\n",
    "        print(\"4 8 12 16\")\n",
    "    elif x==5:\n",
    "        print(\"5 10 15 20 25\")\n",
    "    elif x==6:\n",
    "        print(\"6 12 18 24 30 36\")\n",
    "    elif x==7:\n",
    "        print(\"7 14 21 28 35 42 49\")\n",
    "    else:\n",
    "        print(\"8 16 24 32 40 48 56 64\")\n",
    "    x=x+1"
   ]
  },
  {
   "cell_type": "code",
   "execution_count": 29,
   "id": "e3c1f7cc",
   "metadata": {},
   "outputs": [
    {
     "name": "stdout",
     "output_type": "stream",
     "text": [
      "*\n",
      "**\n",
      "***\n",
      "****\n",
      "*****\n"
     ]
    }
   ],
   "source": [
    "x=1\n",
    "while x<=5:\n",
    "    if  x==1:\n",
    "        print(\"*\")\n",
    "    elif x==2:\n",
    "        print(\"**\")\n",
    "    elif x==3:\n",
    "        print(\"***\")\n",
    "    elif x==4:\n",
    "        print(\"****\")\n",
    "    else:\n",
    "        print(\"*****\")\n",
    "    x=x+1"
   ]
  },
  {
   "cell_type": "code",
   "execution_count": 30,
   "id": "b540240e",
   "metadata": {},
   "outputs": [
    {
     "name": "stdout",
     "output_type": "stream",
     "text": [
      "    *\n",
      "   **\n",
      "  ***\n",
      " ****\n",
      "*****\n"
     ]
    }
   ],
   "source": [
    "x=1\n",
    "while x<=5:\n",
    "    if  x==1:\n",
    "        print(\"    *\")\n",
    "    elif x==2:\n",
    "        print(\"   **\")\n",
    "    elif x==3:\n",
    "        print(\"  ***\")\n",
    "    elif x==4:\n",
    "        print(\" ****\")\n",
    "    else:\n",
    "        print(\"*****\")\n",
    "    x=x+1"
   ]
  },
  {
   "cell_type": "code",
   "execution_count": 31,
   "id": "95248b9c",
   "metadata": {},
   "outputs": [
    {
     "name": "stdout",
     "output_type": "stream",
     "text": [
      "*****\n",
      "****\n",
      "***\n",
      "**\n",
      "*\n"
     ]
    }
   ],
   "source": [
    "x=1\n",
    "while x<=5:\n",
    "    if  x==1:\n",
    "        print(\"*****\")\n",
    "    elif x==2:\n",
    "        print(\"****\")\n",
    "    elif x==3:\n",
    "        print(\"***\")\n",
    "    elif x==4:\n",
    "        print(\"**\")\n",
    "    else:\n",
    "        print(\"*\")\n",
    "    x=x+1"
   ]
  },
  {
   "cell_type": "code",
   "execution_count": 37,
   "id": "8d881782",
   "metadata": {},
   "outputs": [
    {
     "name": "stdout",
     "output_type": "stream",
     "text": [
      "* * * * * *\n",
      " * * * * *\n",
      "  * * * *\n",
      "   * * *\n",
      "    * *\n",
      "     *\n"
     ]
    }
   ],
   "source": [
    "x=1\n",
    "while x<=6:\n",
    "    if  x==1:\n",
    "        print(\"* * * * * *\")\n",
    "    elif x==2:\n",
    "        print(\" * * * * *\")\n",
    "    elif x==3:\n",
    "        print(\"  * * * *\")\n",
    "    elif x==4:\n",
    "        print(\"   * * *\")\n",
    "    elif x==5:\n",
    "        print(\"    * *\")\n",
    "    else:\n",
    "        print(\"     *\")\n",
    "    x=x+1"
   ]
  },
  {
   "cell_type": "code",
   "execution_count": 38,
   "id": "198d29b8",
   "metadata": {},
   "outputs": [
    {
     "name": "stdout",
     "output_type": "stream",
     "text": [
      "*****\n",
      " ****\n",
      "  ***\n",
      "   **\n",
      "    *\n"
     ]
    }
   ],
   "source": [
    "x=1\n",
    "while x<=5:\n",
    "    if  x==1:\n",
    "        print(\"*****\")\n",
    "    elif x==2:\n",
    "        print(\" ****\")\n",
    "    elif x==3:\n",
    "        print(\"  ***\")\n",
    "    elif x==4:\n",
    "        print(\"   **\")\n",
    "    else:\n",
    "        print(\"    *\")\n",
    "    x=x+1"
   ]
  },
  {
   "cell_type": "code",
   "execution_count": 42,
   "id": "ba514945",
   "metadata": {},
   "outputs": [
    {
     "name": "stdout",
     "output_type": "stream",
     "text": [
      "     *\n",
      "    * *\n",
      "   * * *\n",
      "  * * * *\n",
      " * * * * *\n",
      "* * * * * *\n"
     ]
    }
   ],
   "source": [
    "x=1\n",
    "while x<=6:\n",
    "    if  x==1:\n",
    "        print(\"     *\")\n",
    "    elif x==2:\n",
    "        print(\"    * *\")\n",
    "    elif x==3:\n",
    "        print(\"   * * *\")\n",
    "    elif x==4:\n",
    "        print(\"  * * * *\")\n",
    "    elif x==5:\n",
    "        print(\" * * * * *\")\n",
    "    else:\n",
    "        print(\"* * * * * *\")\n",
    "    x=x+1"
   ]
  },
  {
   "cell_type": "code",
   "execution_count": 4,
   "id": "cd600e4a",
   "metadata": {},
   "outputs": [
    {
     "name": "stdout",
     "output_type": "stream",
     "text": [
      "*\n",
      "**\n",
      "***\n",
      "****\n",
      "*****\n",
      "******\n",
      "    \n",
      "    \n",
      "******\n",
      "*****\n",
      "****\n",
      "***\n",
      "**\n",
      "*\n"
     ]
    }
   ],
   "source": [
    "x=1\n",
    "while x<=16:\n",
    "    if  x==1 or x==16:\n",
    "        print(\"*\")\n",
    "    elif x==2 or x==15:\n",
    "        print(\"**\")\n",
    "    elif x==3 or x==14:\n",
    "        print(\"***\")\n",
    "    elif x==4 or x==13:\n",
    "        print(\"****\")\n",
    "    elif x==5 or x==12:\n",
    "        print(\"*****\")\n",
    "    elif x==6 or x==11:\n",
    "        print(\"******\")\n",
    "    elif x==7 or x==8:\n",
    "        print(\"    \")\n",
    "    else :\n",
    "        (\"\")\n",
    "    x=x+1"
   ]
  },
  {
   "cell_type": "code",
   "execution_count": 5,
   "id": "2d319bea",
   "metadata": {},
   "outputs": [
    {
     "name": "stdout",
     "output_type": "stream",
     "text": [
      "*\n",
      "**\n",
      "***\n",
      "****\n",
      "*****\n",
      "****\n",
      "***\n",
      "**\n",
      "*\n"
     ]
    }
   ],
   "source": [
    "x=1\n",
    "while x<=9:\n",
    "    if  x==1 or x==9:\n",
    "        print(\"*\")\n",
    "    elif x==2 or x==8:\n",
    "        print(\"**\")\n",
    "    elif x==3 or x==7:\n",
    "        print(\"***\")\n",
    "    elif x==4 or x==6:\n",
    "        print(\"****\")\n",
    "    else:\n",
    "        print(\"*****\")\n",
    "    x=x+1"
   ]
  },
  {
   "cell_type": "code",
   "execution_count": 7,
   "id": "9f3bc941",
   "metadata": {},
   "outputs": [
    {
     "name": "stdout",
     "output_type": "stream",
     "text": [
      "    *\n",
      "   **\n",
      "  ***\n",
      " ****\n",
      "*****\n",
      " ****\n",
      "  ***\n",
      "   **\n",
      "    *\n"
     ]
    }
   ],
   "source": [
    "x=1\n",
    "while x<=9:\n",
    "    if  x==1 or x==9:\n",
    "        print(\"    *\")\n",
    "    elif x==2 or x==8:\n",
    "        print(\"   **\")\n",
    "    elif x==3 or x==7:\n",
    "        print(\"  ***\")\n",
    "    elif x==4 or x==6:\n",
    "        print(\" ****\")\n",
    "    else:\n",
    "        print(\"*****\")\n",
    "    x=x+1"
   ]
  },
  {
   "cell_type": "code",
   "execution_count": 14,
   "id": "cc63a17e",
   "metadata": {},
   "outputs": [
    {
     "name": "stdout",
     "output_type": "stream",
     "text": [
      "* * * * *\n",
      " * * * * \n",
      "  * * *  \n",
      "   * *   \n",
      "    *    \n",
      "    *    \n",
      "   * *   \n",
      "  * * *  \n",
      " * * * * \n",
      "* * * * *\n"
     ]
    }
   ],
   "source": [
    "x=1\n",
    "while x<=10:\n",
    "    if x==1 or x==10:\n",
    "        print(\"* * * * *\")\n",
    "    elif x==2 or x==9:\n",
    "        print(\" * * * * \")\n",
    "    elif x==3 or x==8:\n",
    "        print(\"  * * *  \")\n",
    "    elif x==4 or x==7:\n",
    "        print(\"   * *   \")\n",
    "    else:\n",
    "        print(\"    *    \")\n",
    "    x=x+1"
   ]
  },
  {
   "cell_type": "code",
   "execution_count": 21,
   "id": "577760d0",
   "metadata": {},
   "outputs": [
    {
     "name": "stdout",
     "output_type": "stream",
     "text": [
      "     *   \n",
      "    * *   \n",
      "   * * *  \n",
      "  * * * * \n",
      " * * * * * \n",
      "* * * * * * \n",
      " * * * * * \n",
      "  * * * * \n",
      "   * * *  \n",
      "    * *   \n",
      "     *   \n"
     ]
    }
   ],
   "source": [
    "x=1\n",
    "while x<=11:\n",
    "    if x==1 or x==11:\n",
    "         print(\"     *   \")\n",
    "    elif x==2 or x==10:\n",
    "         print(\"    * *   \")\n",
    "    elif x==3 or x==9:\n",
    "         print(\"   * * *  \")\n",
    "    elif x==4 or x==8:\n",
    "         print(\"  * * * * \")\n",
    "    elif x==5 or x==7:\n",
    "         print(\" * * * * * \")\n",
    "    else:\n",
    "        print(\"* * * * * * \")\n",
    "    x=x+1  "
   ]
  },
  {
   "cell_type": "code",
   "execution_count": 27,
   "id": "c5d7f3e9",
   "metadata": {},
   "outputs": [
    {
     "name": "stdout",
     "output_type": "stream",
     "text": [
      "    *    \n",
      "   * *  \n",
      "  *   *  \n",
      " *     * \n",
      "*       *\n",
      " *     * \n",
      "  *   *  \n",
      "   * *  \n",
      "    *    \n"
     ]
    }
   ],
   "source": [
    "x=1\n",
    "while x<=9:\n",
    "    if x==1 or x==9:\n",
    "        print(\"    *    \")\n",
    "    elif x==2 or x==8:\n",
    "        print(\"   * *  \")\n",
    "    elif x==3 or x==7:\n",
    "        print(\"  *   *  \")\n",
    "    elif x==4 or x==6:\n",
    "        print(\" *     * \")\n",
    "    else:\n",
    "        print(\"*       *\")\n",
    "    x=x+1"
   ]
  },
  {
   "cell_type": "code",
   "execution_count": null,
   "id": "3664e9f5",
   "metadata": {},
   "outputs": [],
   "source": []
  }
 ],
 "metadata": {
  "kernelspec": {
   "display_name": "Python 3 (ipykernel)",
   "language": "python",
   "name": "python3"
  },
  "language_info": {
   "codemirror_mode": {
    "name": "ipython",
    "version": 3
   },
   "file_extension": ".py",
   "mimetype": "text/x-python",
   "name": "python",
   "nbconvert_exporter": "python",
   "pygments_lexer": "ipython3",
   "version": "3.11.3"
  }
 },
 "nbformat": 4,
 "nbformat_minor": 5
}
