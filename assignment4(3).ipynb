{
 "cells": [
  {
   "cell_type": "code",
   "execution_count": 4,
   "id": "f8614a0d",
   "metadata": {},
   "outputs": [
    {
     "name": "stdout",
     "output_type": "stream",
     "text": [
      "0\n",
      "1\n",
      "2\n",
      "4\n",
      "5\n"
     ]
    }
   ],
   "source": [
    "# Write a Python program that prints all the numbers from 0 to 6 except 3 and 6\n",
    "for num in range (0,7):\n",
    "    if num==3 or num==6:\n",
    "        continue\n",
    "    else :\n",
    "        print(num)\n"
   ]
  },
  {
   "cell_type": "code",
   "execution_count": 11,
   "id": "c87b5036",
   "metadata": {},
   "outputs": [
    {
     "name": "stdout",
     "output_type": "stream",
     "text": [
      "Enter a number:5\n",
      "15\n"
     ]
    }
   ],
   "source": [
    "#write a program to accept a number from a user and calculate the sum of all numbers from 1 to a given number\n",
    "\n",
    "num1=int(input(\"Enter a number:\"))\n",
    "num2=0\n",
    "for i in range(1,num1+1):\n",
    "    num2=num2+i\n",
    "print(num2) "
   ]
  },
  {
   "cell_type": "code",
   "execution_count": 14,
   "id": "fbc797e9",
   "metadata": {},
   "outputs": [
    {
     "name": "stdout",
     "output_type": "stream",
     "text": [
      "enter a number:2\n",
      "2*0=0\n",
      "2*1=2\n",
      "2*2=4\n",
      "2*3=6\n",
      "2*4=8\n",
      "2*5=10\n",
      "2*6=12\n",
      "2*7=14\n",
      "2*8=16\n",
      "2*9=18\n",
      "2*10=20\n"
     ]
    }
   ],
   "source": [
    "#  Write a program to print multiplication table of a given number(input)\n",
    "var1=int(input(\"enter a number:\"))\n",
    "for i  in range (0,11):\n",
    "    print(\"{}*{}={}\".format(var1,i,var1*i))"
   ]
  },
  {
   "cell_type": "code",
   "execution_count": 15,
   "id": "26fe228e",
   "metadata": {},
   "outputs": [
    {
     "name": "stdout",
     "output_type": "stream",
     "text": [
      "enter a number:75869\n",
      "5\n"
     ]
    }
   ],
   "source": [
    "# Write a program to count the total number of digits in a number using a while loop. For example,\n",
    "#the number is 75869, so the output should be 5.\n",
    "\n",
    "num1=int(input(\"enter a number:\"))\n",
    "var1=str(num1)\n",
    "print(len(var1))"
   ]
  },
  {
   "cell_type": "code",
   "execution_count": 1,
   "id": "5e6cc68e",
   "metadata": {},
   "outputs": [
    {
     "name": "stdout",
     "output_type": "stream",
     "text": [
      "enter a number from 1 t0 10:9\n",
      "well guessed\n"
     ]
    }
   ],
   "source": [
    "#Write a Python program to guess a number between 1 to Example:User is prompted to enter a guess. If the user guesses wrong \n",
    "#then the prompt appears again until the guess is correct, on successful guess, user will get a \"Well guessed!\" message, and the program will exit.\n",
    "\n",
    "x=1\n",
    "while x==1:\n",
    "    y=int(input(\"enter a number from 1 t0 10:\"))\n",
    "    if y==9:\n",
    "        print(\"well guessed\")\n",
    "        break\n",
    "    else:\n",
    "        print(\"try again\")\n",
    "    "
   ]
  },
  {
   "cell_type": "code",
   "execution_count": 7,
   "id": "4744f434",
   "metadata": {},
   "outputs": [
    {
     "name": "stdout",
     "output_type": "stream",
     "text": [
      "1\n",
      "2\n",
      "fizz\n",
      "4\n",
      "buzz\n",
      "fizz\n",
      "7\n",
      "8\n",
      "fizz\n",
      "buzz\n",
      "11\n",
      "fizz\n",
      "13\n",
      "14\n",
      "fizzbuzz\n",
      "16\n",
      "17\n",
      "fizz\n",
      "19\n",
      "buzz\n",
      "fizz\n",
      "22\n",
      "23\n",
      "fizz\n",
      "buzz\n",
      "26\n",
      "fizz\n",
      "28\n",
      "29\n",
      "fizzbuzz\n",
      "31\n",
      "32\n",
      "fizz\n",
      "34\n",
      "buzz\n",
      "fizz\n",
      "37\n",
      "38\n",
      "fizz\n",
      "buzz\n",
      "41\n",
      "fizz\n",
      "43\n",
      "44\n",
      "fizzbuzz\n",
      "46\n",
      "47\n",
      "fizz\n",
      "49\n",
      "buzz\n",
      "fizz\n",
      "52\n",
      "53\n",
      "fizz\n",
      "buzz\n",
      "56\n",
      "fizz\n",
      "58\n",
      "59\n",
      "fizzbuzz\n"
     ]
    }
   ],
   "source": [
    "#Write a Python program which iterates the integers from 1 to 60. For multiples of three print \"Fizz\" instead of the\n",
    "#number and for the multiples of five print \"Buzz\". For numbers which are multiples of both three and five print \"FizzBuzz\"int.\n",
    "\n",
    "for i in range (1,61):\n",
    "    if i%15==0:\n",
    "        print(\"fizzbuzz\")\n",
    "    elif i%3==0:\n",
    "        print(\"fizz\")\n",
    "    elif i%5==0:\n",
    "        print(\"buzz\")\n",
    "    else:\n",
    "        print(i)\n"
   ]
  },
  {
   "cell_type": "code",
   "execution_count": 2,
   "id": "6c3a11c3",
   "metadata": {},
   "outputs": [
    {
     "name": "stdout",
     "output_type": "stream",
     "text": [
      "Input a stringpython 32\n",
      " \n",
      "Letters 6\n",
      "Digits 2\n"
     ]
    }
   ],
   "source": [
    "#Write a Python program that accepts a string and calculate the number of digits and letters \n",
    "s = input(\"Input a string\")\n",
    "d=l=0\n",
    "for c in s:\n",
    "    if c.isdigit():\n",
    "        d=d+1\n",
    "    elif c.isalpha():\n",
    "        l=l+1\n",
    "    else:\n",
    "         print(\" \")\n",
    "print(\"Letters\", l)\n",
    "print(\"Digits\", d)"
   ]
  },
  {
   "cell_type": "code",
   "execution_count": 4,
   "id": "cf4e25e1",
   "metadata": {},
   "outputs": [
    {
     "name": "stdout",
     "output_type": "stream",
     "text": [
      "enter a word : urmila\n",
      "alimru\n"
     ]
    }
   ],
   "source": [
    "# Write a program in Python to reverse a word by using while loop\n",
    "var1=input(\"enter a word : \")\n",
    "x=len(var1)\n",
    "i=1\n",
    "y=\"\"\n",
    "while i<=x:\n",
    "    y=y+var1[-i]\n",
    "    i=i+1\n",
    "print(y)"
   ]
  },
  {
   "cell_type": "code",
   "execution_count": 1,
   "id": "c7b67e72",
   "metadata": {},
   "outputs": [
    {
     "name": "stdout",
     "output_type": "stream",
     "text": [
      "enter range: 9\n",
      "enter number: 1\n",
      "enter number: 2\n",
      "enter number: 3\n",
      "enter number: 4\n",
      "enter number: 5\n",
      "enter number: 6\n",
      "enter number: 7\n",
      "enter number: 8\n",
      "enter number: 9\n",
      "45\n",
      "5.0\n"
     ]
    }
   ],
   "source": [
    "# Write a program which takes 10 integers as input using loop and print their average value on the screen\n",
    "\n",
    "num=int(input(\"enter range: \"))\n",
    "x=0\n",
    "avg=0\n",
    "for i in range(num):\n",
    "    num1=int(input(\"enter number: \"))\n",
    "    x+=num1\n",
    "print(x)\n",
    "avg=x/num1\n",
    "print(avg)"
   ]
  },
  {
   "cell_type": "code",
   "execution_count": null,
   "id": "1754ea70",
   "metadata": {},
   "outputs": [],
   "source": [
    "#Write a program which takes integer inputs from user until he/she presses “q” (Ask to press q to quit after every integer \n",
    "#input). Print average and product of all numbers.\n"
   ]
  },
  {
   "cell_type": "code",
   "execution_count": 1,
   "id": "80320f0f",
   "metadata": {},
   "outputs": [
    {
     "name": "stdout",
     "output_type": "stream",
     "text": [
      "enter a string: “asd12.asd22”\n",
      "asdasd\n"
     ]
    }
   ],
   "source": [
    "# Write a Python program which will remove all digits or any other characters from the string except alphabets\n",
    "\n",
    "x=input(\"enter a string: \")\n",
    "new_string=\"\"\n",
    "\n",
    "for i in x:\n",
    "    if (i.isalpha()):\n",
    "        new_string+=i\n",
    "print(new_string)"
   ]
  },
  {
   "cell_type": "code",
   "execution_count": 6,
   "id": "e4e5fadc",
   "metadata": {},
   "outputs": [
    {
     "name": "stdout",
     "output_type": "stream",
     "text": [
      "30\n"
     ]
    }
   ],
   "source": [
    "# Write a python program to find the sum of all even \n",
    "a=0\n",
    "for i in range(0,11):\n",
    "    if i%2==0:\n",
    "        a=a+i\n",
    "print(a) "
   ]
  },
  {
   "cell_type": "code",
   "execution_count": 8,
   "id": "fe4c6a58",
   "metadata": {},
   "outputs": [
    {
     "name": "stdout",
     "output_type": "stream",
     "text": [
      "Enter a number : 5\n",
      "5\n",
      "4\n",
      "3\n",
      "2\n",
      "1\n"
     ]
    }
   ],
   "source": [
    "#14) Write a python program which will accept a digit and printAll the numbers before it till 0\n",
    "\n",
    "x=int(input(\"Enter a number : \"))\n",
    "while x>=1:\n",
    "    print(x)\n",
    "    x=x-1"
   ]
  },
  {
   "cell_type": "code",
   "execution_count": 2,
   "id": "6c097840",
   "metadata": {},
   "outputs": [
    {
     "name": "stdout",
     "output_type": "stream",
     "text": [
      "Enter u to start and c to quit : u\n",
      "Enter an input : 9\n",
      "Enter an input : 4\n",
      "Enter an operation : +\n",
      "9 + 4 = 13\n",
      "Enter u to start and c to quit : u\n",
      "Enter an input : 6\n",
      "Enter an input : 8\n",
      "Enter an operation : -\n",
      "6 - 8 = -2\n",
      "Enter u to start and c to quit : c\n"
     ]
    }
   ],
   "source": [
    "# Create a dynamic calculator which will run continually till you press “c”\n",
    "\n",
    "x=1\n",
    "while x==1:\n",
    "    x1=input(\"Enter u to start and c to quit : \")\n",
    "    if x1==\"c\":\n",
    "        break\n",
    "    else:\n",
    "        a= int(input(\"Enter an input : \"))\n",
    "        b= int(input(\"Enter an input : \"))\n",
    "        d= input(\"Enter an operation : \")\n",
    "        if d==\"+\":\n",
    "            print(\"{} + {} = {}\".format(a,b,a+b))\n",
    "        elif d==\"-\":\n",
    "            print(\"{} - {} = {}\".format(a,b,a-b))\n",
    "        elif d==\"*\":\n",
    "            print(\"{} * {} = {}\".format(a,b,a*b))\n",
    "        elif d==\"/\":\n",
    "            print(\"{} / {} = {}\".format(a,b,a/b))\n",
    "        elif d==\"%\":\n",
    "            print(\"{} % {} = {}\".format(a,b,a%b))\n",
    "        elif d==\"^\":\n",
    "            print(\"{} ^ {} = {}\".format(a,b,a^b))\n",
    "        else: print(\"enter a valid operation\")    \n",
    "    "
   ]
  },
  {
   "cell_type": "code",
   "execution_count": null,
   "id": "23273f44",
   "metadata": {},
   "outputs": [],
   "source": []
  }
 ],
 "metadata": {
  "kernelspec": {
   "display_name": "Python 3 (ipykernel)",
   "language": "python",
   "name": "python3"
  },
  "language_info": {
   "codemirror_mode": {
    "name": "ipython",
    "version": 3
   },
   "file_extension": ".py",
   "mimetype": "text/x-python",
   "name": "python",
   "nbconvert_exporter": "python",
   "pygments_lexer": "ipython3",
   "version": "3.11.3"
  }
 },
 "nbformat": 4,
 "nbformat_minor": 5
}
