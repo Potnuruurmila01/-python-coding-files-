{
 "cells": [
  {
   "cell_type": "code",
   "execution_count": null,
   "id": "bc7c9b82",
   "metadata": {},
   "outputs": [],
   "source": [
    "#. Given a list of numbers, write a python program that returns a new list which Has all duplicate elements removed.\n",
    "#And is sorted in an increasing order.\n",
    "\n"
   ]
  },
  {
   "cell_type": "code",
   "execution_count": 1,
   "id": "686a56d2",
   "metadata": {},
   "outputs": [
    {
     "name": "stdout",
     "output_type": "stream",
     "text": [
      "(1, 'u')\n",
      "(2, 'm')\n",
      "(3, 'i')\n"
     ]
    }
   ],
   "source": [
    "# Write a Python program where you will iterate over both keys and values in dictionaries\n",
    "x={1:\"u\",2:\"m\",3:\"i\"}\n",
    "for i in x.items():\n",
    "    print(i)"
   ]
  },
  {
   "cell_type": "code",
   "execution_count": 2,
   "id": "d3d6620a",
   "metadata": {},
   "outputs": [
    {
     "name": "stdout",
     "output_type": "stream",
     "text": [
      "Enter range : 6\n",
      "Enter number : 1\n",
      "Enter name : urmila\n",
      "Enter number : 2\n",
      "Enter name : tarun\n",
      "Enter number : 3\n",
      "Enter name : sweety\n",
      "Enter number : 4\n",
      "Enter name : sravani\n",
      "Enter number : 5\n",
      "Enter name : sarayu\n",
      "Enter number : 6\n",
      "Enter name : rajeev\n",
      "['rajeev', 'sarayu', 'sravani', 'sweety', 'tarun', 'urmila']\n"
     ]
    }
   ],
   "source": [
    "#3) Write a Python program that takes a dictionary of student names and returns a list of \n",
    "# student names in alphabetical order\n",
    "\n",
    "x={}\n",
    "n=int(input(\"Enter range : \"))\n",
    "for i in range(0,n):\n",
    "    a=input(\"Enter number : \")\n",
    "    b=input(\"Enter name : \")\n",
    "    x[a]=b \n",
    "new=[]\n",
    "for i in x.values():\n",
    "    new=sorted(x.values())\n",
    "print(new)"
   ]
  },
  {
   "cell_type": "code",
   "execution_count": null,
   "id": "f4f6408b",
   "metadata": {},
   "outputs": [],
   "source": [
    "# Write a Python which returns a new list of Booleans, from a given number. Iterating \n",
    "#through the number one digit at a time, append True if the digit is 1 and False if it is 0.\n"
   ]
  },
  {
   "cell_type": "code",
   "execution_count": 3,
   "id": "893a4444",
   "metadata": {},
   "outputs": [
    {
     "name": "stdout",
     "output_type": "stream",
     "text": [
      "Enter string : urmila\n",
      "{'u': 1, 'r': 1, 'm': 1, 'i': 1, 'l': 1, 'a': 1}\n"
     ]
    }
   ],
   "source": [
    "# Write a Python program where you will return a dictionary where the keys will be the character and the values\n",
    "#will be the occurrence of the character in the string, and it should for any string inputs (dynamic)\n",
    "\n",
    "x=input(\"Enter string : \")\n",
    "a={}\n",
    "for i in x:\n",
    "    if i in a:\n",
    "        a[i]+=1\n",
    "    else:\n",
    "        a[i]=1\n",
    "print(a) "
   ]
  },
  {
   "cell_type": "code",
   "execution_count": 4,
   "id": "8ae8de99",
   "metadata": {},
   "outputs": [
    {
     "name": "stdout",
     "output_type": "stream",
     "text": [
      "Enter range : 2\n",
      "Enter name : urmila\n",
      "Enter age : 21\n",
      "Enter name : sravas\n",
      "Enter age : 22\n",
      "{'urmila': '21', 'sravas': '22'}\n",
      "dict_values(['21', '22'])\n"
     ]
    }
   ],
   "source": [
    "#. Given a dictionary containing the names and ages of a group of people, return the name of the oldest person\n",
    "\n",
    "n=int(input(\"Enter range : \"))\n",
    "x={}\n",
    "for i in range(n):\n",
    "    a=input(\"Enter name : \")\n",
    "    b=input(\"Enter age : \")\n",
    "    x[a]=b \n",
    "print(x)    \n",
    "print((x.values()))\n"
   ]
  },
  {
   "cell_type": "code",
   "execution_count": 5,
   "id": "6f356a9e",
   "metadata": {},
   "outputs": [
    {
     "name": "stdout",
     "output_type": "stream",
     "text": [
      "enter Rock,Paper and Scissor: rock\n",
      "enter Rock,Paper and Scissor: paper\n",
      "both are enter same value try again\n"
     ]
    }
   ],
   "source": [
    "#write a Python program to create a Rock, Paper, Scissor game, use two inputs for two players:\n",
    "#Conditions: -Rock beats Scissors, Scissors beats Paper, Paper beats Rock\n",
    "\n",
    "x=input(\"enter Rock,Paper and Scissor: \")\n",
    "y=input(\"enter Rock,Paper and Scissor: \")\n",
    "\n",
    "\n",
    "if ((x==\"Rock\")and(y==\"Paper\")or(x==\"scissor\")and(y==\"Rock\")or(x==\"Paper\")and(y==\"Scissor\")):\n",
    "    print (\"person1 winner\")\n",
    "elif((x==\"Paper\")and(y==\"Rock\")or(x==\"Rock\")and(y==\"Scissor\")or(x==\"Rock\")and(y==\"Paper\")):\n",
    "    print(\"person2 winner\")\n",
    "else:\n",
    "    print(\"both are enter same value try again\")"
   ]
  },
  {
   "cell_type": "code",
   "execution_count": null,
   "id": "38ffadba",
   "metadata": {},
   "outputs": [],
   "source": [
    "# Create a program that returns a list of items that you can afford in the store with the \n",
    "# money you have in your wallet. Create a dictionary with items as key and price as values\n",
    "\n"
   ]
  },
  {
   "cell_type": "code",
   "execution_count": 6,
   "id": "313b50db",
   "metadata": {},
   "outputs": [
    {
     "name": "stdout",
     "output_type": "stream",
     "text": [
      "{0, 1, 2, 3, 4, 5, 6, 8, 9}\n"
     ]
    }
   ],
   "source": [
    "# Write a Python program to create a union of sets\n",
    "\n",
    "s1={1,2,3,4,5,6}\n",
    "s2={2,3,4,8,9,0}\n",
    "s3=s1.union(s2)\n",
    "print(s3)"
   ]
  },
  {
   "cell_type": "code",
   "execution_count": 7,
   "id": "93f6b47c",
   "metadata": {},
   "outputs": [
    {
     "name": "stdout",
     "output_type": "stream",
     "text": [
      "enter the range: 2\n",
      "enter element into the set : 6\n",
      "enter element into the set : 5\n",
      "{'6', '5'}\n",
      "enter element to check: 6\n",
      "The value is present\n"
     ]
    }
   ],
   "source": [
    "# Write a Python program to check if a given value is present in a set or not (Dynamic)\n",
    "x=int(input(\"enter the range: \"))\n",
    "s=set()\n",
    "for i in range(x):\n",
    "    e=input(\"enter element into the set : \")\n",
    "    s.add(e)\n",
    "print(s)\n",
    "e2=input(\"enter element to check: \")\n",
    "for i in s:\n",
    "    if(i==e2):\n",
    "        print(\"The value is present\") \n",
    "        break\n"
   ]
  },
  {
   "cell_type": "code",
   "execution_count": null,
   "id": "9f96178e",
   "metadata": {},
   "outputs": [],
   "source": [
    "#Write a Python program to find the occurrences of 3 most common words in a given text. And make it as a dictionaries\n"
   ]
  },
  {
   "cell_type": "code",
   "execution_count": 8,
   "id": "73dc6a26",
   "metadata": {},
   "outputs": [
    {
     "name": "stdout",
     "output_type": "stream",
     "text": [
      "Enter range : 3\n",
      "Enter subject : eng\n",
      "Enter marks : 56\n",
      "Enter subject : sci\n",
      "Enter marks : 69\n",
      "Enter subject : tel\n",
      "Enter marks : 85\n",
      "{'eng': 56, 'sci': 69, 'tel': 85}\n"
     ]
    }
   ],
   "source": [
    "# Write a Python program that accepts name of given subject and mark, and make subjects as keys in dictionaries \n",
    "# and marks as values and print the finaldictionary with subjects and marks\n",
    "x={}\n",
    "n=int(input(\"Enter range : \"))\n",
    "for i in range(0,n):\n",
    "    a=input(\"Enter subject : \")\n",
    "    b=int(input(\"Enter marks : \"))\n",
    "    x[a]=b \n",
    "print(x) "
   ]
  },
  {
   "cell_type": "code",
   "execution_count": null,
   "id": "0a24f84b",
   "metadata": {},
   "outputs": [],
   "source": []
  }
 ],
 "metadata": {
  "kernelspec": {
   "display_name": "Python 3 (ipykernel)",
   "language": "python",
   "name": "python3"
  },
  "language_info": {
   "codemirror_mode": {
    "name": "ipython",
    "version": 3
   },
   "file_extension": ".py",
   "mimetype": "text/x-python",
   "name": "python",
   "nbconvert_exporter": "python",
   "pygments_lexer": "ipython3",
   "version": "3.11.3"
  }
 },
 "nbformat": 4,
 "nbformat_minor": 5
}
