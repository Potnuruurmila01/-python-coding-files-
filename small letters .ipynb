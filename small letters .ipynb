{
 "cells": [
  {
   "cell_type": "code",
   "execution_count": 3,
   "id": "97fe0667",
   "metadata": {},
   "outputs": [
    {
     "name": "stdout",
     "output_type": "stream",
     "text": [
      "*****\n",
      "    *\n",
      "    *\n",
      "*****\n",
      "*   *\n",
      "*   *\n",
      "********\n"
     ]
    }
   ],
   "source": [
    "x=1\n",
    "while x<=7:\n",
    "    if  x==1 or x==4:\n",
    "        print(\"*****\")\n",
    "    elif x==2 or x==3:\n",
    "        print(\"    *\")\n",
    "    elif x==5 or x==6 :\n",
    "        print(\"*   *\")    \n",
    "    else:\n",
    "        print(\"********\")\n",
    "    x=x+1"
   ]
  },
  {
   "cell_type": "code",
   "execution_count": 6,
   "id": "40b85533",
   "metadata": {},
   "outputs": [
    {
     "name": "stdout",
     "output_type": "stream",
     "text": [
      "*     \n",
      "*     \n",
      "******\n",
      "*    *\n",
      "******\n"
     ]
    }
   ],
   "source": [
    "x=1\n",
    "while x<=5:\n",
    "    if  x==1 or x==2:\n",
    "        print(\"*     \")\n",
    "    elif x==3 or x==5:\n",
    "        print(\"******\")    \n",
    "    else:\n",
    "        print(\"*    *\")\n",
    "    x=x+1"
   ]
  },
  {
   "cell_type": "code",
   "execution_count": 14,
   "id": "80b14f03",
   "metadata": {},
   "outputs": [
    {
     "name": "stdout",
     "output_type": "stream",
     "text": [
      " *****\n",
      "*     *\n",
      "*    \n",
      "*    \n",
      "*     *\n",
      " *****\n"
     ]
    }
   ],
   "source": [
    "x=1\n",
    "while x<=6:\n",
    "    if x==1 or x==6 :\n",
    "        print(\" *****\")\n",
    "    elif x==2 or x==5:\n",
    "        print(\"*     *\")\n",
    "    else:\n",
    "        print(\"*    \")\n",
    "    x=x+1"
   ]
  },
  {
   "cell_type": "code",
   "execution_count": 15,
   "id": "67f26727",
   "metadata": {},
   "outputs": [
    {
     "name": "stdout",
     "output_type": "stream",
     "text": [
      "     *\n",
      "     *\n",
      "******\n",
      "*    *\n",
      "******\n"
     ]
    }
   ],
   "source": [
    "x=1\n",
    "while x<=5:\n",
    "    if  x==1 or x==2:\n",
    "        print(\"     *\")\n",
    "    elif x==3 or x==5:\n",
    "        print(\"******\")    \n",
    "    else:\n",
    "        print(\"*    *\")\n",
    "    x=x+1"
   ]
  },
  {
   "cell_type": "code",
   "execution_count": 17,
   "id": "b548e513",
   "metadata": {},
   "outputs": [
    {
     "name": "stdout",
     "output_type": "stream",
     "text": [
      "  ***  \n",
      "*     *\n",
      "*******\n",
      "*     \n",
      "*******\n"
     ]
    }
   ],
   "source": [
    "x=1\n",
    "while x<=5:\n",
    "    if  x==1:\n",
    "        print(\"  ***  \")\n",
    "    elif x==2:\n",
    "        print(\"*     *\")\n",
    "    elif x==3 or x==5:\n",
    "        print(\"*******\")\n",
    "    else:\n",
    "        print(\"*     \")\n",
    "    x=x+1"
   ]
  },
  {
   "cell_type": "code",
   "execution_count": 24,
   "id": "fb4aa2ad",
   "metadata": {},
   "outputs": [
    {
     "name": "stdout",
     "output_type": "stream",
     "text": [
      "   **   \n",
      " *     *\n",
      " *     \n",
      "******\n",
      " *     \n",
      " *     \n"
     ]
    }
   ],
   "source": [
    "x=1\n",
    "while x<=6:\n",
    "    if  x==1:\n",
    "        print(\"   **   \")\n",
    "    elif x==2:\n",
    "        print(\" *     *\")\n",
    "    elif x==4:\n",
    "        print(\"******\")\n",
    "    else:\n",
    "        print(\" *     \")\n",
    "    x=x+1"
   ]
  },
  {
   "cell_type": "code",
   "execution_count": 29,
   "id": "efe63970",
   "metadata": {},
   "outputs": [
    {
     "name": "stdout",
     "output_type": "stream",
     "text": [
      "  ***  \n",
      "*     *\n",
      "*     *\n",
      "  *** *\n",
      "      *\n",
      " *    *\n",
      "   **  \n"
     ]
    }
   ],
   "source": [
    "x=1\n",
    "while x<=7:\n",
    "    if  x==1:\n",
    "        print(\"  ***  \")\n",
    "    elif x==2 or x==3:\n",
    "        print(\"*     *\")\n",
    "    elif x==4:\n",
    "        print(\"  *** *\")\n",
    "    elif x==5:\n",
    "        print(\"      *\")\n",
    "    elif x==6:\n",
    "        print(\" *    *\")\n",
    "    else:\n",
    "        print(\"   **  \")\n",
    "    x=x+1"
   ]
  },
  {
   "cell_type": "code",
   "execution_count": 33,
   "id": "753d4149",
   "metadata": {},
   "outputs": [
    {
     "name": "stdout",
     "output_type": "stream",
     "text": [
      "*      \n",
      "*      \n",
      "****** \n",
      "*     *\n",
      "*     *\n"
     ]
    }
   ],
   "source": [
    "x=1\n",
    "while x<=5:\n",
    "    if  x==1 or x==2:\n",
    "        print(\"*      \")\n",
    "    elif x==4 or x==5:\n",
    "        print(\"*     *\")\n",
    "    else:\n",
    "        print(\"****** \")\n",
    "    x=x+1"
   ]
  },
  {
   "cell_type": "code",
   "execution_count": 38,
   "id": "32a0404d",
   "metadata": {},
   "outputs": [
    {
     "name": "stdout",
     "output_type": "stream",
     "text": [
      "   *  \n",
      "     \n",
      "   *  \n",
      "   *  \n",
      "   *  \n"
     ]
    }
   ],
   "source": [
    "x=1\n",
    "while x<=5:\n",
    "    if  x==1 or x==3 or x==4 or x==5:\n",
    "        print(\"   *  \")\n",
    "    else:\n",
    "        print(\"     \")\n",
    "    x=x+1"
   ]
  },
  {
   "cell_type": "code",
   "execution_count": 42,
   "id": "410f2116",
   "metadata": {},
   "outputs": [
    {
     "name": "stdout",
     "output_type": "stream",
     "text": [
      "    *  \n",
      "     \n",
      "    *  \n",
      "*   *\n",
      " ***    \n"
     ]
    }
   ],
   "source": [
    "x=1\n",
    "while x<=5:\n",
    "    if  x==1 or x==3 :\n",
    "        print(\"    *  \")\n",
    "    elif x==2:\n",
    "        print(\"     \")\n",
    "    elif x==4:\n",
    "        print(\"*   *\")\n",
    "    else:\n",
    "        print(\" ***    \")\n",
    "    x=x+1"
   ]
  },
  {
   "cell_type": "code",
   "execution_count": 46,
   "id": "68449964",
   "metadata": {},
   "outputs": [
    {
     "name": "stdout",
     "output_type": "stream",
     "text": [
      "*    \n",
      "*  *\n",
      "**\n",
      "*  *\n",
      "*   *\n"
     ]
    }
   ],
   "source": [
    "x=1\n",
    "while x<=5:\n",
    "    if  x==1:\n",
    "        print(\"*    \")\n",
    "    elif x==2 or x==4:\n",
    "        print(\"*  *\")\n",
    "    elif x==5:\n",
    "        print(\"*   *\")\n",
    "    else:\n",
    "        print(\"**\")\n",
    "    x=x+1"
   ]
  },
  {
   "cell_type": "code",
   "execution_count": 49,
   "id": "29178cf7",
   "metadata": {},
   "outputs": [
    {
     "name": "stdout",
     "output_type": "stream",
     "text": [
      "   *  \n",
      "   *  \n",
      "   *  \n",
      "   *  \n",
      "   *  \n"
     ]
    }
   ],
   "source": [
    "x=1\n",
    "while x<=5:\n",
    "    if  x==1 or x==2 or x==3 or x==4 or x==5:\n",
    "        print(\"   *  \")\n",
    "    else:\n",
    "        print(\"     \")\n",
    "    x=x+1"
   ]
  },
  {
   "cell_type": "code",
   "execution_count": 58,
   "id": "df686b1c",
   "metadata": {},
   "outputs": [
    {
     "name": "stdout",
     "output_type": "stream",
     "text": [
      "       \n",
      " **  ** \n",
      "*   *  *\n",
      "*      *\n",
      "*      *\n"
     ]
    }
   ],
   "source": [
    "x=1\n",
    "while x<=5:\n",
    "    if x==1:\n",
    "        print(\"       \")\n",
    "    elif x==2:\n",
    "        print(\" **  ** \")\n",
    "    elif x==3:\n",
    "        print(\"*   *  *\")\n",
    "    else:\n",
    "        print(\"*      *\")\n",
    "    x=x+1"
   ]
  },
  {
   "cell_type": "code",
   "execution_count": 63,
   "id": "5bef61d9",
   "metadata": {},
   "outputs": [
    {
     "name": "stdout",
     "output_type": "stream",
     "text": [
      "        \n",
      " ****** \n",
      "*      *\n",
      "*      *\n",
      "*      *\n"
     ]
    }
   ],
   "source": [
    "x=1\n",
    "while x<=5:\n",
    "    if x==1:\n",
    "        print(\"        \")\n",
    "    elif x==2:\n",
    "        print(\" ****** \")\n",
    "    elif x==3:\n",
    "        print(\"*      *\")\n",
    "    else:\n",
    "        print(\"*      *\")\n",
    "    x=x+1"
   ]
  },
  {
   "cell_type": "code",
   "execution_count": 66,
   "id": "04ab7278",
   "metadata": {},
   "outputs": [
    {
     "name": "stdout",
     "output_type": "stream",
     "text": [
      " ***** \n",
      "*     *\n",
      "*     *\n",
      "*     *\n",
      " ***** \n"
     ]
    }
   ],
   "source": [
    "x=1\n",
    "while x<=5:\n",
    "    if  x==1 or x==5:\n",
    "        print(\" ***** \")\n",
    "    else:\n",
    "        print(\"*     *\")\n",
    "    x=x+1"
   ]
  },
  {
   "cell_type": "code",
   "execution_count": 70,
   "id": "900b4f59",
   "metadata": {},
   "outputs": [
    {
     "name": "stdout",
     "output_type": "stream",
     "text": [
      " ***** \n",
      "*     *\n",
      " ***** \n",
      "*      \n",
      "*      \n"
     ]
    }
   ],
   "source": [
    "x=1\n",
    "while x<=5:\n",
    "    if  x==1 or x==3:\n",
    "        print(\" ***** \")\n",
    "    elif x==2:\n",
    "        print(\"*     *\")\n",
    "    else:\n",
    "        print(\"*      \")\n",
    "    x=x+1"
   ]
  },
  {
   "cell_type": "code",
   "execution_count": 74,
   "id": "6a64565c",
   "metadata": {},
   "outputs": [
    {
     "name": "stdout",
     "output_type": "stream",
     "text": [
      " ***** \n",
      "*     *\n",
      " ***** \n",
      "      * *\n",
      "      *\n"
     ]
    }
   ],
   "source": [
    "x=1\n",
    "while x<=5:\n",
    "    if  x==1 or x==3:\n",
    "        print(\" ***** \")\n",
    "    elif x==2:\n",
    "        print(\"*     *\")\n",
    "    elif x==4:\n",
    "        print(\"      * *\")\n",
    "    else:\n",
    "        print(\"      *\")\n",
    "    x=x+1"
   ]
  },
  {
   "cell_type": "code",
   "execution_count": 94,
   "id": "39c2e5df",
   "metadata": {},
   "outputs": [
    {
     "name": "stdout",
     "output_type": "stream",
     "text": [
      "*      \n",
      "* *** \n",
      "*      \n",
      "*      \n",
      "*      \n"
     ]
    }
   ],
   "source": [
    "x=1\n",
    "while x<=5:\n",
    "    if  x==2:\n",
    "        print(\"* *** \")\n",
    "    else:\n",
    "        print(\"*      \")\n",
    "    x=x+1"
   ]
  },
  {
   "cell_type": "code",
   "execution_count": 100,
   "id": "294b0298",
   "metadata": {},
   "outputs": [
    {
     "name": "stdout",
     "output_type": "stream",
     "text": [
      " ***** \n",
      "*      \n",
      " ***** \n",
      "      *\n",
      " ***** \n"
     ]
    }
   ],
   "source": [
    "x=1\n",
    "while x<=5:\n",
    "    if  x==1 or x==3 or x==5:\n",
    "        print(\" ***** \")\n",
    "    elif x==2:\n",
    "        print(\"*      \")\n",
    "    else:\n",
    "        print(\"      *\")\n",
    "    x=x+1"
   ]
  },
  {
   "cell_type": "code",
   "execution_count": 101,
   "id": "ea83fe0b",
   "metadata": {},
   "outputs": [
    {
     "name": "stdout",
     "output_type": "stream",
     "text": [
      "   *   \n",
      "*******\n",
      "   *   \n",
      "   *   \n",
      "   *****\n"
     ]
    }
   ],
   "source": [
    "x=1\n",
    "while x<=5:\n",
    "    if  x==1 or x==3 or x==4:\n",
    "        print(\"   *   \")\n",
    "    elif x==2:\n",
    "        print(\"*******\")\n",
    "    else:\n",
    "        print(\"   *****\")\n",
    "    x=x+1"
   ]
  },
  {
   "cell_type": "code",
   "execution_count": 103,
   "id": "4924e191",
   "metadata": {},
   "outputs": [
    {
     "name": "stdout",
     "output_type": "stream",
     "text": [
      "*     *\n",
      "*     *\n",
      "*     *\n",
      "*     *\n",
      "  ***  \n"
     ]
    }
   ],
   "source": [
    "x=1\n",
    "while x<=5:\n",
    "    if  x==5:\n",
    "        print(\"  ***  \")\n",
    "    else:\n",
    "        print(\"*     *\")\n",
    "    x=x+1"
   ]
  },
  {
   "cell_type": "code",
   "execution_count": 106,
   "id": "1aab00b9",
   "metadata": {},
   "outputs": [
    {
     "name": "stdout",
     "output_type": "stream",
     "text": [
      "*     *\n",
      " *   * \n",
      "  * *  \n",
      "   *   \n"
     ]
    }
   ],
   "source": [
    "x=1\n",
    "while x<=4:\n",
    "    if  x==1:\n",
    "        print(\"*     *\")\n",
    "    elif x==2:\n",
    "        print(\" *   * \")\n",
    "    elif x==3:\n",
    "        print(\"  * *  \")\n",
    "    else:\n",
    "        print(\"   *   \")\n",
    "    x=x+1"
   ]
  },
  {
   "cell_type": "code",
   "execution_count": 113,
   "id": "e615085c",
   "metadata": {},
   "outputs": [
    {
     "name": "stdout",
     "output_type": "stream",
     "text": [
      "*       *\n",
      "*       *\n",
      "*   *   *\n",
      "*   *   *\n",
      " *** ***\n"
     ]
    }
   ],
   "source": [
    "x=1\n",
    "while x<=5:\n",
    "    if  x==1 or x==2 :\n",
    "        print(\"*       *\")\n",
    "    elif x==3 or x==4:\n",
    "        print(\"*   *   *\")\n",
    "    else:\n",
    "        print(\" *** ***\")\n",
    "    x=x+1"
   ]
  },
  {
   "cell_type": "code",
   "execution_count": 114,
   "id": "ff6907d6",
   "metadata": {},
   "outputs": [
    {
     "name": "stdout",
     "output_type": "stream",
     "text": [
      "*     *\n",
      " *   * \n",
      "   *   \n",
      " *   * \n",
      "*     *\n"
     ]
    }
   ],
   "source": [
    "x=1\n",
    "while x<=5:\n",
    "    if  x==1 or x==5:\n",
    "        print(\"*     *\")\n",
    "    elif x==2 or x==4:\n",
    "        print(\" *   * \")\n",
    "    else:\n",
    "        print(\"   *   \")\n",
    "    x=x+1"
   ]
  },
  {
   "cell_type": "code",
   "execution_count": 117,
   "id": "ebd2bf4b",
   "metadata": {},
   "outputs": [
    {
     "name": "stdout",
     "output_type": "stream",
     "text": [
      "*     *\n",
      " *   * \n",
      "   *  \n",
      "  *   \n",
      "*     \n"
     ]
    }
   ],
   "source": [
    "x=1\n",
    "while x<=5:\n",
    "    if  x==1:\n",
    "        print(\"*     *\")\n",
    "    elif x==2:\n",
    "        print(\" *   * \")\n",
    "    elif x==4:\n",
    "        print(\"  *   \")\n",
    "    elif x==3:\n",
    "        print(\"   *  \")\n",
    "    else:\n",
    "        print(\"*     \")\n",
    "    x=x+1"
   ]
  },
  {
   "cell_type": "code",
   "execution_count": 118,
   "id": "967720d8",
   "metadata": {},
   "outputs": [
    {
     "name": "stdout",
     "output_type": "stream",
     "text": [
      "*****\n",
      "   *\n",
      "  *\n",
      " *   \n",
      "*****\n"
     ]
    }
   ],
   "source": [
    "x=1\n",
    "while x<=5:\n",
    "    if  x==1 or x==5:\n",
    "        print(\"*****\")\n",
    "    elif x==2:\n",
    "        print(\"   *\")\n",
    "    elif x==3:\n",
    "        print(\"  *\")    \n",
    "    else:\n",
    "        print(\" *   \")\n",
    "    x=x+1"
   ]
  },
  {
   "cell_type": "code",
   "execution_count": null,
   "id": "920e286e",
   "metadata": {},
   "outputs": [],
   "source": []
  }
 ],
 "metadata": {
  "kernelspec": {
   "display_name": "Python 3 (ipykernel)",
   "language": "python",
   "name": "python3"
  },
  "language_info": {
   "codemirror_mode": {
    "name": "ipython",
    "version": 3
   },
   "file_extension": ".py",
   "mimetype": "text/x-python",
   "name": "python",
   "nbconvert_exporter": "python",
   "pygments_lexer": "ipython3",
   "version": "3.11.3"
  }
 },
 "nbformat": 4,
 "nbformat_minor": 5
}
