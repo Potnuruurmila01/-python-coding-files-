{
 "cells": [
  {
   "cell_type": "code",
   "execution_count": 3,
   "id": "2763bb27",
   "metadata": {},
   "outputs": [
    {
     "data": {
      "text/plain": [
       "97"
      ]
     },
     "execution_count": 3,
     "metadata": {},
     "output_type": "execute_result"
    }
   ],
   "source": [
    "ord(\"a\")"
   ]
  },
  {
   "cell_type": "code",
   "execution_count": 4,
   "id": "cb074408",
   "metadata": {},
   "outputs": [
    {
     "data": {
      "text/plain": [
       "122"
      ]
     },
     "execution_count": 4,
     "metadata": {},
     "output_type": "execute_result"
    }
   ],
   "source": [
    "ord(\"z\")"
   ]
  },
  {
   "cell_type": "code",
   "execution_count": 5,
   "id": "f96f8341",
   "metadata": {},
   "outputs": [
    {
     "name": "stdout",
     "output_type": "stream",
     "text": [
      "a\n",
      "b\n",
      "c\n",
      "d\n",
      "e\n",
      "f\n",
      "g\n",
      "h\n",
      "i\n",
      "j\n",
      "k\n",
      "l\n",
      "m\n",
      "n\n",
      "o\n",
      "p\n",
      "q\n",
      "r\n",
      "s\n",
      "t\n",
      "u\n",
      "v\n",
      "w\n",
      "x\n",
      "y\n",
      "z\n"
     ]
    }
   ],
   "source": [
    "#  Create a python program to print lower case alphabets (a-z) with conditional statement\n",
    "\n",
    "def lc(x):\n",
    "    if x<=122:\n",
    "        print(chr(x))\n",
    "        \n",
    "lc(97)\n",
    "lc(98)\n",
    "lc(99)\n",
    "lc(100)\n",
    "lc(101)\n",
    "lc(102)\n",
    "lc(103)\n",
    "lc(104)\n",
    "lc(105)\n",
    "lc(106)\n",
    "lc(107)\n",
    "lc(108)\n",
    "lc(109)\n",
    "lc(110)\n",
    "lc(111)\n",
    "lc(112)\n",
    "lc(113)\n",
    "lc(114)\n",
    "lc(115)\n",
    "lc(116)\n",
    "lc(117)\n",
    "lc(118)\n",
    "lc(119)\n",
    "lc(120)\n",
    "lc(121)\n",
    "lc(122)"
   ]
  },
  {
   "cell_type": "code",
   "execution_count": 6,
   "id": "f5115c10",
   "metadata": {},
   "outputs": [],
   "source": [
    "#Create a python program to print lower & upper case alphabets with looping concepts (while loop and for loop)\n",
    "\n",
    "x=97\n",
    "while x>=122:\n",
    "    print(x)\n",
    "x=x+1"
   ]
  },
  {
   "cell_type": "code",
   "execution_count": 12,
   "id": "eb429109",
   "metadata": {},
   "outputs": [
    {
     "name": "stdout",
     "output_type": "stream",
     "text": [
      "a\n",
      "b\n",
      "c\n",
      "d\n",
      "e\n",
      "f\n",
      "g\n",
      "h\n",
      "i\n",
      "j\n",
      "k\n",
      "l\n",
      "m\n",
      "n\n",
      "o\n",
      "p\n",
      "q\n",
      "r\n",
      "s\n",
      "t\n",
      "u\n",
      "v\n",
      "w\n",
      "x\n",
      "y\n",
      "z\n",
      "A\n",
      "B\n",
      "C\n",
      "D\n",
      "E\n",
      "F\n",
      "G\n",
      "H\n",
      "I\n",
      "J\n",
      "K\n",
      "L\n",
      "M\n",
      "N\n",
      "O\n",
      "P\n",
      "Q\n",
      "R\n",
      "S\n",
      "T\n",
      "U\n",
      "V\n",
      "W\n",
      "X\n",
      "Y\n",
      "Z\n"
     ]
    }
   ],
   "source": [
    "x=97\n",
    "while x<=122:\n",
    "    print(chr(x))\n",
    "    x=x+1\n",
    "    \n",
    "y=65\n",
    "while y<=90:\n",
    "    print(chr(y))\n",
    "    y=y+1\n"
   ]
  },
  {
   "cell_type": "code",
   "execution_count": null,
   "id": "480c85df",
   "metadata": {},
   "outputs": [],
   "source": []
  }
 ],
 "metadata": {
  "kernelspec": {
   "display_name": "Python 3 (ipykernel)",
   "language": "python",
   "name": "python3"
  },
  "language_info": {
   "codemirror_mode": {
    "name": "ipython",
    "version": 3
   },
   "file_extension": ".py",
   "mimetype": "text/x-python",
   "name": "python",
   "nbconvert_exporter": "python",
   "pygments_lexer": "ipython3",
   "version": "3.11.3"
  }
 },
 "nbformat": 4,
 "nbformat_minor": 5
}
