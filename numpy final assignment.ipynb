{
 "cells": [
  {
   "cell_type": "code",
   "execution_count": 1,
   "id": "346b87bf",
   "metadata": {},
   "outputs": [],
   "source": [
    "import numpy as np"
   ]
  },
  {
   "cell_type": "code",
   "execution_count": 25,
   "id": "88e82161",
   "metadata": {},
   "outputs": [],
   "source": [
    "u=np.genfromtxt(r\"C:\\Users\\DELL\\Downloads\\tipsf.csv\",delimiter=\",\",skip_header=1)"
   ]
  },
  {
   "cell_type": "code",
   "execution_count": 26,
   "id": "1e26c1d7",
   "metadata": {},
   "outputs": [
    {
     "data": {
      "text/plain": [
       "array([[  0.  ,  16.99,   1.01, ...,   1.  ,   0.  ,   2.  ],\n",
       "       [  1.  ,  10.34,   1.66, ...,   1.  ,   0.  ,   3.  ],\n",
       "       [  2.  ,  21.01,   3.5 , ...,   1.  ,   0.  ,   3.  ],\n",
       "       ...,\n",
       "       [241.  ,  22.67,   2.  , ...,   0.  ,   0.  ,   2.  ],\n",
       "       [242.  ,  17.82,   1.75, ...,   0.  ,   0.  ,   2.  ],\n",
       "       [243.  ,  18.78,   3.  , ...,   2.  ,   0.  ,   2.  ]])"
      ]
     },
     "execution_count": 26,
     "metadata": {},
     "output_type": "execute_result"
    }
   ],
   "source": [
    "u"
   ]
  },
  {
   "cell_type": "code",
   "execution_count": 5,
   "id": "0c8e51b2",
   "metadata": {},
   "outputs": [
    {
     "data": {
      "text/plain": [
       "4827.77"
      ]
     },
     "execution_count": 5,
     "metadata": {},
     "output_type": "execute_result"
    }
   ],
   "source": [
    "# 1 what is total bill value\n",
    "np.sum(u[:,1])"
   ]
  },
  {
   "cell_type": "code",
   "execution_count": 6,
   "id": "76e380cd",
   "metadata": {},
   "outputs": [
    {
     "data": {
      "text/plain": [
       "731.5799999999999"
      ]
     },
     "execution_count": 6,
     "metadata": {},
     "output_type": "execute_result"
    }
   ],
   "source": [
    "#2 what is total tip value\n",
    "np.sum(u[:,2])"
   ]
  },
  {
   "cell_type": "code",
   "execution_count": 8,
   "id": "1bd65f71",
   "metadata": {},
   "outputs": [
    {
     "name": "stdout",
     "output_type": "stream",
     "text": [
      "sun =  87\n",
      "sat =  76\n",
      "thu =  62\n",
      "fri =  19\n"
     ]
    }
   ],
   "source": [
    "#3 count how many sun,sat,thu,fri are these\n",
    "x1=np.unique(u[:,5],return_counts=True)\n",
    "b,s=x1\n",
    "y=0\n",
    "for i in b:\n",
    "    if(i==0):\n",
    "        print(\"sun = \",s[y])\n",
    "        y+=1\n",
    "    elif(i==1):\n",
    "        print(\"sat = \",s[y])\n",
    "        y+=1\n",
    "    elif(i==2):\n",
    "        print(\"thu = \",s[y])\n",
    "        y+=1\n",
    "    else:\n",
    "        print(\"fri = \",s[y])\n",
    "        y+=1 "
   ]
  },
  {
   "cell_type": "code",
   "execution_count": 9,
   "id": "c40076cb",
   "metadata": {},
   "outputs": [
    {
     "data": {
      "text/plain": [
       "93.0"
      ]
     },
     "execution_count": 9,
     "metadata": {},
     "output_type": "execute_result"
    }
   ],
   "source": [
    "# how many smokers are these\n",
    "np.sum(u[:,4])"
   ]
  },
  {
   "cell_type": "code",
   "execution_count": 10,
   "id": "4e4db8c2",
   "metadata": {},
   "outputs": [
    {
     "name": "stdout",
     "output_type": "stream",
     "text": [
      "2.8334482758620685 avg tip by female\n",
      "1.5701273885350315 avg tip by male\n"
     ]
    }
   ],
   "source": [
    "#what is avg tip given by female and male\n",
    "a1=np.sum(u[:,2].take(np.where(u[:,3]==0)))\n",
    "a2=np.sum(u[:,2].take(np.where(u[:,3]==1)))\n",
    "x=np.unique(u[:,3],return_counts=True)\n",
    "d,z=x\n",
    "print(a1/z[0],\"avg tip by female\")\n",
    "print(a1/z[1],\"avg tip by male\")\n"
   ]
  },
  {
   "cell_type": "code",
   "execution_count": 12,
   "id": "52b1d0af",
   "metadata": {},
   "outputs": [
    {
     "name": "stdout",
     "output_type": "stream",
     "text": [
      "total amount spent by female:  1571.0\n",
      "total amount spent by male:  3257.0\n"
     ]
    }
   ],
   "source": [
    "#6) How much amount have been spent by female and male\n",
    "a1=np.sum(u[:,1].take(np.where(u[:,3]==0)))\n",
    "a2=np.sum(u[:,1].take(np.where(u[:,3]==1)))\n",
    "print(\"total amount spent by female: \",np.round(a1))\n",
    "print(\"total amount spent by male: \",np.round(a2))"
   ]
  },
  {
   "cell_type": "code",
   "execution_count": 13,
   "id": "978b4af4",
   "metadata": {},
   "outputs": [
    {
     "data": {
      "text/plain": [
       "10.0"
      ]
     },
     "execution_count": 13,
     "metadata": {},
     "output_type": "execute_result"
    }
   ],
   "source": [
    "#7) what is the min and max tip given\n",
    "np.max(u[:,2])"
   ]
  },
  {
   "cell_type": "code",
   "execution_count": 14,
   "id": "b9c42121",
   "metadata": {},
   "outputs": [
    {
     "data": {
      "text/plain": [
       "1.0"
      ]
     },
     "execution_count": 14,
     "metadata": {},
     "output_type": "execute_result"
    }
   ],
   "source": [
    "np.min(u[:,2])"
   ]
  },
  {
   "cell_type": "code",
   "execution_count": 18,
   "id": "0c5fac72",
   "metadata": {},
   "outputs": [
    {
     "name": "stdout",
     "output_type": "stream",
     "text": [
      "total female going for lunch: 35\n",
      "total female going for dinner: 52\n",
      "total male going for lunch: 33\n",
      "total female going for dinner: 124\n"
     ]
    }
   ],
   "source": [
    "#8 how many male and female are going for dinner and lunch\n",
    "a1=np.unique(u[:,3].take(np.where((u[:,6]==1))),return_counts=True)      \n",
    "x,a=a1\n",
    "a2=np.unique(u[:,3].take(np.where((u[:,6]==0))),return_counts=True)      \n",
    "w,b=a2\n",
    "for i in x:\n",
    "    if(i==0):\n",
    "        print(\"total female going for lunch:\",a[0])\n",
    "        print(\"total female going for dinner:\",b[0])\n",
    "    else:\n",
    "        print(\"total male going for lunch:\",a[1])\n",
    "        print(\"total female going for dinner:\",b[1])"
   ]
  },
  {
   "cell_type": "code",
   "execution_count": 19,
   "id": "64e11187",
   "metadata": {},
   "outputs": [
    {
     "data": {
      "text/plain": [
       "2.569672131147541"
      ]
     },
     "execution_count": 19,
     "metadata": {},
     "output_type": "execute_result"
    }
   ],
   "source": [
    "#9 find out the average size\n",
    "np.mean(u[:,7])"
   ]
  },
  {
   "cell_type": "code",
   "execution_count": 21,
   "id": "cd8c0ede",
   "metadata": {},
   "outputs": [
    {
     "name": "stdout",
     "output_type": "stream",
     "text": [
      "Female smokers :  33\n",
      "Male smokers :  60\n"
     ]
    }
   ],
   "source": [
    "#10 find how many female smokers and male smokers are there\n",
    "x1=np.unique(u[:,3].take(np.where(u[:,4]==1)),return_counts=True)\n",
    "a,b=x1\n",
    "for i in a:\n",
    "    if (i==0):\n",
    "        print(\"Female smokers : \",b[0])\n",
    "    else:\n",
    "        print(\"Male smokers : \",b[1])"
   ]
  },
  {
   "cell_type": "code",
   "execution_count": null,
   "id": "4976fbb5",
   "metadata": {},
   "outputs": [],
   "source": []
  },
  {
   "cell_type": "code",
   "execution_count": 22,
   "id": "dbef82bc",
   "metadata": {},
   "outputs": [],
   "source": [
    "x=np.genfromtxt(r\"C:\\Users\\DELL\\Downloads\\train_extended.csv\",delimiter=\",\",skip_header=1)"
   ]
  },
  {
   "cell_type": "code",
   "execution_count": 23,
   "id": "adf4bc61",
   "metadata": {},
   "outputs": [],
   "source": [
    "import numpy as np"
   ]
  },
  {
   "cell_type": "code",
   "execution_count": 27,
   "id": "c321c4ad",
   "metadata": {},
   "outputs": [
    {
     "data": {
      "text/plain": [
       "array([[ 1.575     ,  1.225     ,  0.375     , ...,  6.3219385 ,\n",
       "         9.63883   , 10.        ],\n",
       "       [ 1.2375    ,  1.        ,  0.375     , ...,  3.798833  ,\n",
       "         7.654365  , 19.        ],\n",
       "       [ 1.45      ,  1.1625    ,  0.4125    , ...,  7.01650125,\n",
       "         7.257472  , 11.        ],\n",
       "       ...,\n",
       "       [ 1.125     ,  0.9125    ,  0.2875    , ...,  1.984465  ,\n",
       "         3.118445  ,  7.        ],\n",
       "       [ 1.625     ,  1.275     ,  0.4125    , ...,  7.86698625,\n",
       "        10.489315  , 11.        ],\n",
       "       [ 1.5875    ,  1.25      ,  0.3875    , ...,  7.38504475,\n",
       "         8.788345  , 11.        ]])"
      ]
     },
     "execution_count": 27,
     "metadata": {},
     "output_type": "execute_result"
    }
   ],
   "source": [
    "x"
   ]
  },
  {
   "cell_type": "code",
   "execution_count": 29,
   "id": "680198e9",
   "metadata": {},
   "outputs": [
    {
     "data": {
      "text/plain": [
       "7.58349125"
      ]
     },
     "execution_count": 29,
     "metadata": {},
     "output_type": "execute_result"
    }
   ],
   "source": [
    "# 1 what is the max and min length\n",
    "np.max(x[:,0])"
   ]
  },
  {
   "cell_type": "code",
   "execution_count": 30,
   "id": "6b19e2f8",
   "metadata": {},
   "outputs": [
    {
     "data": {
      "text/plain": [
       "0.0"
      ]
     },
     "execution_count": 30,
     "metadata": {},
     "output_type": "execute_result"
    }
   ],
   "source": [
    "np.max(x[:,0])"
   ]
  },
  {
   "cell_type": "code",
   "execution_count": 35,
   "id": "6c8dbadc",
   "metadata": {},
   "outputs": [
    {
     "data": {
      "text/plain": [
       "7.58349125"
      ]
     },
     "execution_count": 35,
     "metadata": {},
     "output_type": "execute_result"
    }
   ],
   "source": [
    "# 2 find out the difference between the max and min\n",
    "np.max(x[:,0])-np.min(x[:,0])"
   ]
  },
  {
   "cell_type": "code",
   "execution_count": 36,
   "id": "0e83d34d",
   "metadata": {},
   "outputs": [
    {
     "data": {
      "text/plain": [
       "array([ 1.31244808,  1.02032036,  0.34602787, 23.12343631,  9.98937025,\n",
       "        4.99318096,  6.63422915,  9.950615  ])"
      ]
     },
     "execution_count": 36,
     "metadata": {},
     "output_type": "execute_result"
    }
   ],
   "source": [
    "# 3 find out the coloumnwise avgerage\n",
    "np.mean(x,axis=0)"
   ]
  },
  {
   "cell_type": "code",
   "execution_count": 38,
   "id": "06bb47ee",
   "metadata": {},
   "outputs": [],
   "source": [
    "#4 find out all the age whose height is gereater than 0.4\n",
    "\n",
    "z=x[:,7].take(np.where(y[:,2]>0.4))"
   ]
  },
  {
   "cell_type": "code",
   "execution_count": 39,
   "id": "9ad834cd",
   "metadata": {},
   "outputs": [
    {
     "data": {
      "text/plain": [
       "array([[10., 19., 11.,  9.,  8., 10., 14., 13.,  9., 10., 10.,  6.,  9.,\n",
       "         7., 14., 16., 19.,  9.,  9.,  9., 12.,  6., 13.,  9.,  9., 11.,\n",
       "         9.,  8., 10.,  9., 20., 11., 17.,  8.,  5.,  9.,  8.,  5., 15.,\n",
       "         7., 12., 11.,  8., 11., 12.,  8.,  9., 14., 15.,  9.,  5.,  8.,\n",
       "        11.,  5., 11.,  8., 13., 11.,  9., 11.,  7.,  7.,  8., 10., 11.,\n",
       "         9., 13.,  8.,  7.,  7., 10.,  9.,  6.,  4.,  8., 10., 10., 10.,\n",
       "        10.,  8., 10.,  8.,  8., 10.,  9., 11.,  9.,  7., 13.,  9.,  6.,\n",
       "        12., 14., 11.,  9., 11., 10.,  8., 11., 15., 10.,  8.,  9.,  5.,\n",
       "         8.,  9., 11., 11.,  8., 12.,  8., 10.,  7.,  8., 10., 12., 10.,\n",
       "        13.,  9., 10., 10.,  4.,  6.,  7.,  9.,  4., 10., 16., 10.,  7.,\n",
       "        14.,  6., 10., 10.,  8., 11., 12.,  9., 11., 17., 10.,  4.,  8.,\n",
       "        15.,  6., 10.,  7., 10., 11.,  6., 14.,  6., 11., 11., 12.,  3.,\n",
       "        10.,  7., 10., 11., 11., 13.,  8.,  8.,  8., 10., 16., 11., 11.,\n",
       "        12., 10.,  6.,  9.,  7., 22., 11., 14., 11., 11.,  8., 12., 10.,\n",
       "        18.,  7.,  8., 12., 10.,  8.,  6.,  8.,  6.,  7.,  7.,  7., 14.,\n",
       "         9., 11.,  9.,  9., 10.,  6.,  7.,  7., 10., 14.,  9.,  8., 11.,\n",
       "         9., 10., 10., 11., 11.,  8., 11.,  6., 11.,  5., 10., 10.,  8.,\n",
       "         7., 10.,  9., 14.,  8., 18., 15.,  6., 18., 11.,  9., 13.,  5.,\n",
       "        12., 11., 12.,  4.,  8.,  8., 13.,  9.,  8.,  7.]])"
      ]
     },
     "execution_count": 39,
     "metadata": {},
     "output_type": "execute_result"
    }
   ],
   "source": [
    "z"
   ]
  },
  {
   "cell_type": "code",
   "execution_count": null,
   "id": "34b64ab0",
   "metadata": {},
   "outputs": [],
   "source": [
    "#5 what is the average height and weight of the persons whose age is greater than 10.\n"
   ]
  },
  {
   "cell_type": "code",
   "execution_count": 40,
   "id": "99ad3f91",
   "metadata": {},
   "outputs": [
    {
     "data": {
      "text/plain": [
       "1326845.8295214002"
      ]
     },
     "execution_count": 40,
     "metadata": {},
     "output_type": "execute_result"
    }
   ],
   "source": [
    "#6 what is the shell weight\n",
    "np.sum(x[:,6])"
   ]
  },
  {
   "cell_type": "code",
   "execution_count": 42,
   "id": "0b8827e9",
   "metadata": {},
   "outputs": [
    {
     "data": {
      "text/plain": [
       "(array([ 1.,  2.,  3.,  4.,  5.,  6.,  7.,  8.,  9., 10., 11., 12., 13.,\n",
       "        14., 15., 16., 17., 18., 19., 20., 21., 22., 23., 24., 25., 26.,\n",
       "        27., 29.]),\n",
       " array([   46,    42,   625,  2787,  5475, 12450, 18276, 26818, 32906,\n",
       "        30803, 23457, 12717, 10037,  6352,  4831,  3191,  2705,  1953,\n",
       "         1591,  1206,   721,   296,   352,   110,    51,    46,    99,\n",
       "           57], dtype=int64))"
      ]
     },
     "execution_count": 42,
     "metadata": {},
     "output_type": "execute_result"
    }
   ],
   "source": [
    "#7  how many persons belongs to each and every unique \n",
    "\n",
    "np.unique(x[:,7],return_counts=True)"
   ]
  },
  {
   "cell_type": "code",
   "execution_count": null,
   "id": "6e2bb300",
   "metadata": {},
   "outputs": [],
   "source": [
    "#8  what is the difference between shucked weight and viscera weight\n",
    "\n"
   ]
  },
  {
   "cell_type": "code",
   "execution_count": null,
   "id": "110d2b65",
   "metadata": {},
   "outputs": [],
   "source": [
    "#9 what is the average height of the persons whose age is between 14 and 19.\n",
    "\n"
   ]
  },
  {
   "cell_type": "code",
   "execution_count": null,
   "id": "8a303fc0",
   "metadata": {},
   "outputs": [],
   "source": [
    "#10 what is the average weight if we include all shucked weight ,viscera weight and shell weight with weight."
   ]
  }
 ],
 "metadata": {
  "kernelspec": {
   "display_name": "Python 3 (ipykernel)",
   "language": "python",
   "name": "python3"
  },
  "language_info": {
   "codemirror_mode": {
    "name": "ipython",
    "version": 3
   },
   "file_extension": ".py",
   "mimetype": "text/x-python",
   "name": "python",
   "nbconvert_exporter": "python",
   "pygments_lexer": "ipython3",
   "version": "3.11.3"
  }
 },
 "nbformat": 4,
 "nbformat_minor": 5
}
