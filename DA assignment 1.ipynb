{
 "cells": [
  {
   "cell_type": "code",
   "execution_count": 10,
   "id": "4baec517",
   "metadata": {},
   "outputs": [],
   "source": [
    "#1Write a program to create a 5 dimensional array with all zeros and ones\n",
    "import numpy as np"
   ]
  },
  {
   "cell_type": "code",
   "execution_count": 11,
   "id": "938b8678",
   "metadata": {},
   "outputs": [],
   "source": [
    "x=np.array([[[[[1,0,0],[1,1,0],[1,0,1]]]]])"
   ]
  },
  {
   "cell_type": "code",
   "execution_count": 12,
   "id": "291631ae",
   "metadata": {},
   "outputs": [
    {
     "data": {
      "text/plain": [
       "array([[[[[1, 0, 0],\n",
       "          [1, 1, 0],\n",
       "          [1, 0, 1]]]]])"
      ]
     },
     "execution_count": 12,
     "metadata": {},
     "output_type": "execute_result"
    }
   ],
   "source": [
    "x"
   ]
  },
  {
   "cell_type": "code",
   "execution_count": 14,
   "id": "0f863748",
   "metadata": {},
   "outputs": [
    {
     "data": {
      "text/plain": [
       "5"
      ]
     },
     "execution_count": 14,
     "metadata": {},
     "output_type": "execute_result"
    }
   ],
   "source": [
    "x.ndim"
   ]
  },
  {
   "cell_type": "code",
   "execution_count": 26,
   "id": "c55cb946",
   "metadata": {},
   "outputs": [],
   "source": [
    "#Write a program to create an array of 10 zeros,10 ones, and 10 fives in row 1 2 and 3 which create a new array of shape (3,10)\n",
    "\n",
    "import numpy as np"
   ]
  },
  {
   "cell_type": "code",
   "execution_count": 27,
   "id": "fd99e2ee",
   "metadata": {},
   "outputs": [],
   "source": [
    "x=np.zeros(10,)\n",
    "y=np.ones(10,)\n",
    "z=np.full(10,5)"
   ]
  },
  {
   "cell_type": "code",
   "execution_count": 28,
   "id": "b60654d3",
   "metadata": {},
   "outputs": [],
   "source": [
    "u=np.array([x,y,z])"
   ]
  },
  {
   "cell_type": "code",
   "execution_count": 29,
   "id": "3b9daa72",
   "metadata": {},
   "outputs": [
    {
     "data": {
      "text/plain": [
       "array([[0., 0., 0., 0., 0., 0., 0., 0., 0., 0.],\n",
       "       [1., 1., 1., 1., 1., 1., 1., 1., 1., 1.],\n",
       "       [5., 5., 5., 5., 5., 5., 5., 5., 5., 5.]])"
      ]
     },
     "execution_count": 29,
     "metadata": {},
     "output_type": "execute_result"
    }
   ],
   "source": [
    "u"
   ]
  },
  {
   "cell_type": "code",
   "execution_count": 30,
   "id": "07f95d6a",
   "metadata": {},
   "outputs": [
    {
     "data": {
      "text/plain": [
       "(3, 10)"
      ]
     },
     "execution_count": 30,
     "metadata": {},
     "output_type": "execute_result"
    }
   ],
   "source": [
    "u.shape"
   ]
  },
  {
   "cell_type": "code",
   "execution_count": 33,
   "id": "9e1b5670",
   "metadata": {},
   "outputs": [],
   "source": [
    "#3 Write a program to create a 3x4 matrix filled with values from 10 to 21.\n",
    "\n",
    "x1=np.arange(10,22).reshape(3,4)"
   ]
  },
  {
   "cell_type": "code",
   "execution_count": 34,
   "id": "ec77d36a",
   "metadata": {},
   "outputs": [
    {
     "data": {
      "text/plain": [
       "array([[10, 11, 12, 13],\n",
       "       [14, 15, 16, 17],\n",
       "       [18, 19, 20, 21]])"
      ]
     },
     "execution_count": 34,
     "metadata": {},
     "output_type": "execute_result"
    }
   ],
   "source": [
    "x1"
   ]
  },
  {
   "cell_type": "code",
   "execution_count": 35,
   "id": "ace3c69f",
   "metadata": {},
   "outputs": [],
   "source": [
    "#4) Write a  program to create a 10x10 zero matrix with elements on the main diagonal equal to 0,1,2,3,4,5,6,7,8,9\n",
    "\n",
    "x=np.diag((0,1,2,3,4,5,6,7,8,9))"
   ]
  },
  {
   "cell_type": "code",
   "execution_count": 36,
   "id": "888fc8cd",
   "metadata": {},
   "outputs": [
    {
     "data": {
      "text/plain": [
       "array([[0, 0, 0, 0, 0, 0, 0, 0, 0, 0],\n",
       "       [0, 1, 0, 0, 0, 0, 0, 0, 0, 0],\n",
       "       [0, 0, 2, 0, 0, 0, 0, 0, 0, 0],\n",
       "       [0, 0, 0, 3, 0, 0, 0, 0, 0, 0],\n",
       "       [0, 0, 0, 0, 4, 0, 0, 0, 0, 0],\n",
       "       [0, 0, 0, 0, 0, 5, 0, 0, 0, 0],\n",
       "       [0, 0, 0, 0, 0, 0, 6, 0, 0, 0],\n",
       "       [0, 0, 0, 0, 0, 0, 0, 7, 0, 0],\n",
       "       [0, 0, 0, 0, 0, 0, 0, 0, 8, 0],\n",
       "       [0, 0, 0, 0, 0, 0, 0, 0, 0, 9]])"
      ]
     },
     "execution_count": 36,
     "metadata": {},
     "output_type": "execute_result"
    }
   ],
   "source": [
    "x"
   ]
  },
  {
   "cell_type": "code",
   "execution_count": 39,
   "id": "c5cf2e9d",
   "metadata": {},
   "outputs": [],
   "source": [
    "#5)Write a program to create a 4x4 array. Create an array from below array by swapping first and last, second and \n",
    "#third columns.\n",
    "\n",
    "x=np.arange(1,17).reshape(4,4)"
   ]
  },
  {
   "cell_type": "code",
   "execution_count": 40,
   "id": "166b9fd3",
   "metadata": {},
   "outputs": [
    {
     "data": {
      "text/plain": [
       "array([[ 1,  2,  3,  4],\n",
       "       [ 5,  6,  7,  8],\n",
       "       [ 9, 10, 11, 12],\n",
       "       [13, 14, 15, 16]])"
      ]
     },
     "execution_count": 40,
     "metadata": {},
     "output_type": "execute_result"
    }
   ],
   "source": [
    "x"
   ]
  },
  {
   "cell_type": "code",
   "execution_count": 41,
   "id": "98d9744f",
   "metadata": {},
   "outputs": [
    {
     "data": {
      "text/plain": [
       "array([[ 4,  3,  2,  1],\n",
       "       [ 8,  7,  6,  5],\n",
       "       [12, 11, 10,  9],\n",
       "       [16, 15, 14, 13]])"
      ]
     },
     "execution_count": 41,
     "metadata": {},
     "output_type": "execute_result"
    }
   ],
   "source": [
    "x[::,::-1]"
   ]
  },
  {
   "cell_type": "code",
   "execution_count": 42,
   "id": "9fc5f5e9",
   "metadata": {},
   "outputs": [],
   "source": [
    "#6) Write a program to reverse an array (the first element becomes the last).\n",
    "#Given array:[12 13 14 15 16 17 18 19 20 21 22 23 24 25 26 27 ]\n",
    "\n",
    "\n",
    "x=np.arange(12,28)"
   ]
  },
  {
   "cell_type": "code",
   "execution_count": 43,
   "id": "47d07169",
   "metadata": {},
   "outputs": [
    {
     "data": {
      "text/plain": [
       "array([12, 13, 14, 15, 16, 17, 18, 19, 20, 21, 22, 23, 24, 25, 26, 27])"
      ]
     },
     "execution_count": 43,
     "metadata": {},
     "output_type": "execute_result"
    }
   ],
   "source": [
    "x"
   ]
  },
  {
   "cell_type": "code",
   "execution_count": 44,
   "id": "7683d158",
   "metadata": {},
   "outputs": [
    {
     "data": {
      "text/plain": [
       "array([27, 26, 25, 24, 23, 22, 21, 20, 19, 18, 17, 16, 15, 14, 13, 12])"
      ]
     },
     "execution_count": 44,
     "metadata": {},
     "output_type": "execute_result"
    }
   ],
   "source": [
    "x[::-1]"
   ]
  },
  {
   "cell_type": "code",
   "execution_count": null,
   "id": "813f1ada",
   "metadata": {},
   "outputs": [],
   "source": [
    "# Write a program to access all the elements greater than 30 and less than 80 and multiples of 5 from an \n",
    "#array of shape 10,10 .Elements range from 1 to 100\n",
    "\n"
   ]
  },
  {
   "cell_type": "code",
   "execution_count": 68,
   "id": "c5dc37ea",
   "metadata": {},
   "outputs": [],
   "source": [
    "#Write a program to create a 2D array with 1 on the border and 0 inside.\n",
    "\n",
    "x=np.ones((5,5),dtype=int)\n",
    "x[1:-1,1:-1]=0"
   ]
  },
  {
   "cell_type": "code",
   "execution_count": 69,
   "id": "6bd3a6fe",
   "metadata": {},
   "outputs": [
    {
     "data": {
      "text/plain": [
       "array([[1, 1, 1, 1, 1],\n",
       "       [1, 0, 0, 0, 1],\n",
       "       [1, 0, 0, 0, 1],\n",
       "       [1, 0, 0, 0, 1],\n",
       "       [1, 1, 1, 1, 1]])"
      ]
     },
     "execution_count": 69,
     "metadata": {},
     "output_type": "execute_result"
    }
   ],
   "source": [
    "x"
   ]
  },
  {
   "cell_type": "code",
   "execution_count": 66,
   "id": "129c59ae",
   "metadata": {},
   "outputs": [],
   "source": [
    "#Write a program to create a checkerboard pattern .Don't use default array function\n",
    "\n",
    "x=np.ones((8,8),dtype=int)\n",
    "x\n",
    "x[1::2,::2]=0\n",
    "x[::2,1::2]=0"
   ]
  },
  {
   "cell_type": "code",
   "execution_count": 67,
   "id": "5a64f996",
   "metadata": {},
   "outputs": [
    {
     "data": {
      "text/plain": [
       "array([[1, 0, 1, 0, 1, 0, 1, 0],\n",
       "       [0, 1, 0, 1, 0, 1, 0, 1],\n",
       "       [1, 0, 1, 0, 1, 0, 1, 0],\n",
       "       [0, 1, 0, 1, 0, 1, 0, 1],\n",
       "       [1, 0, 1, 0, 1, 0, 1, 0],\n",
       "       [0, 1, 0, 1, 0, 1, 0, 1],\n",
       "       [1, 0, 1, 0, 1, 0, 1, 0],\n",
       "       [0, 1, 0, 1, 0, 1, 0, 1]])"
      ]
     },
     "execution_count": 67,
     "metadata": {},
     "output_type": "execute_result"
    }
   ],
   "source": [
    "x"
   ]
  },
  {
   "cell_type": "code",
   "execution_count": 57,
   "id": "3705f2d8",
   "metadata": {},
   "outputs": [],
   "source": [
    "#11Write a program to find common values between two arrays.\n",
    "\n",
    "x=np.arange(0,9).reshape(3,3)"
   ]
  },
  {
   "cell_type": "code",
   "execution_count": 58,
   "id": "063944fa",
   "metadata": {},
   "outputs": [
    {
     "data": {
      "text/plain": [
       "array([[0, 1, 2],\n",
       "       [3, 4, 5],\n",
       "       [6, 7, 8]])"
      ]
     },
     "execution_count": 58,
     "metadata": {},
     "output_type": "execute_result"
    }
   ],
   "source": [
    "x"
   ]
  },
  {
   "cell_type": "code",
   "execution_count": 59,
   "id": "74d9104c",
   "metadata": {},
   "outputs": [
    {
     "data": {
      "text/plain": [
       "array([0, 1, 2, 3, 4, 5, 6, 7, 8])"
      ]
     },
     "execution_count": 59,
     "metadata": {},
     "output_type": "execute_result"
    }
   ],
   "source": [
    "x.flatten()"
   ]
  },
  {
   "cell_type": "code",
   "execution_count": null,
   "id": "f88a0358",
   "metadata": {},
   "outputs": [],
   "source": [
    "#Write a user defined function for creating a 1 or 2d array from scratch without using array functions"
   ]
  }
 ],
 "metadata": {
  "kernelspec": {
   "display_name": "Python 3 (ipykernel)",
   "language": "python",
   "name": "python3"
  },
  "language_info": {
   "codemirror_mode": {
    "name": "ipython",
    "version": 3
   },
   "file_extension": ".py",
   "mimetype": "text/x-python",
   "name": "python",
   "nbconvert_exporter": "python",
   "pygments_lexer": "ipython3",
   "version": "3.11.3"
  }
 },
 "nbformat": 4,
 "nbformat_minor": 5
}
